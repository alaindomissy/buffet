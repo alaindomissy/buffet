{
 "cells": [
  {
   "cell_type": "markdown",
   "metadata": {},
   "source": [
    "# rev engnr"
   ]
  },
  {
   "cell_type": "code",
   "execution_count": null,
   "metadata": {
    "collapsed": true
   },
   "outputs": [],
   "source": [
    "import cPickle as pickle"
   ]
  },
  {
   "cell_type": "code",
   "execution_count": null,
   "metadata": {
    "collapsed": true
   },
   "outputs": [],
   "source": [
    "datadirpath = \"/home/user/r/crispreating/data/\"\n",
    "\n",
    "scaffolds_directory = datadirpath + \"scaffolds_hg18chr21_AP001625/\"\n",
    "blastdb_directory = datadirpath + \"blastdb_hg18/\"\n",
    "blastdb_db = 'hg18'"
   ]
  },
  {
   "cell_type": "code",
   "execution_count": null,
   "metadata": {
    "collapsed": true
   },
   "outputs": [],
   "source": [
    "with open(scaffolds_directory + '/cuts.pkl', 'rb') as pkl_handle:\n",
    "    cuts = pickle.load(pkl_handle)\n",
    "len(cuts), cuts"
   ]
  },
  {
   "cell_type": "code",
   "execution_count": null,
   "metadata": {
    "collapsed": true
   },
   "outputs": [],
   "source": [
    "seqio.write(cuts, scaffolds_directory + \"cuts_preblast.fasta\", \"fasta\")"
   ]
  },
  {
   "cell_type": "code",
   "execution_count": null,
   "metadata": {
    "collapsed": true
   },
   "outputs": [],
   "source": []
  },
  {
   "cell_type": "code",
   "execution_count": null,
   "metadata": {
    "collapsed": true
   },
   "outputs": [],
   "source": [
    "from Bio import SeqIO as seqio\n",
    "from Bio.Blast import NCBIXML\n",
    "from Bio.Blast.Applications import NcbiblastnCommandline"
   ]
  },
  {
   "cell_type": "code",
   "execution_count": null,
   "metadata": {
    "collapsed": true
   },
   "outputs": [],
   "source": [
    "protospacers_seqrecords = list(seqio.parse(scaffolds_directory + \"protospacers.fasta\", \"fasta\"))"
   ]
  },
  {
   "cell_type": "code",
   "execution_count": null,
   "metadata": {
    "collapsed": true
   },
   "outputs": [],
   "source": [
    "len(list(protospacers_seqrecords)) , list(protospacers_seqrecords)"
   ]
  },
  {
   "cell_type": "code",
   "execution_count": null,
   "metadata": {
    "collapsed": true
   },
   "outputs": [],
   "source": [
    "seqio.write(protospacers_seqrecords, scaffolds_directory + \"protospacers_preblast.fasta\", \"fasta\")"
   ]
  },
  {
   "cell_type": "code",
   "execution_count": null,
   "metadata": {
    "collapsed": true
   },
   "outputs": [],
   "source": []
  },
  {
   "cell_type": "code",
   "execution_count": null,
   "metadata": {
    "collapsed": true
   },
   "outputs": [],
   "source": [
    "scaffolds_directory = datadirpath + \"scaffolds_yeast/\"\n",
    "blastdb_directory = datadirpath + \"blastdb_yeast/\"\n",
    "blastdb_db = 'yeast'"
   ]
  },
  {
   "cell_type": "code",
   "execution_count": null,
   "metadata": {
    "collapsed": true
   },
   "outputs": [],
   "source": [
    "# guides_hg18chr21_AP001625 = base.score_guides(cuts_hg18chr21_AP001625,\n",
    "#                                        'blastdb_hg18/hg18',\n",
    "#                                        genomedict_hg18,\n",
    "# #                                        hits=25, \n",
    "# #                                        max_hsps=100, \n",
    "#                                        return_blast=0, \n",
    "#                                        sqlitedb=\"sqlite_hg18chr21_AP001625\",\n",
    "#                                        pam_blast_lookup=1\n",
    "#                                       )\n",
    "# Bio.SeqIO.write(guides, filename, \"fasta\")"
   ]
  },
  {
   "cell_type": "code",
   "execution_count": null,
   "metadata": {
    "collapsed": true
   },
   "outputs": [],
   "source": [
    "blastn_cline = NcbiblastnCommandline(query=scaffolds_directory + \"protospacers.fasta\",\n",
    "                                     out=scaffolds_directory + \"protospacers.blast\",\n",
    "                                     outfmt=5,\n",
    "                                     db=blastdb_directory + blastdb_db,\n",
    "                                     max_target_seqs=25,\n",
    "                                     num_threads=7,\n",
    "                                     evalue=10,\n",
    "                                     max_hsps=100,\n",
    "                                     task=\"blastn-short\",\n",
    "                                     dust=\"no\",\n",
    "#                                    ,strand=\"plus\"\n",
    "                                    )\n",
    "print(blastn_cline)"
   ]
  },
  {
   "cell_type": "code",
   "execution_count": null,
   "metadata": {
    "collapsed": true
   },
   "outputs": [],
   "source": [
    "# timeit.timeit(blastn_cline, number =1)\n",
    "# blastn_cline()"
   ]
  },
  {
   "cell_type": "code",
   "execution_count": null,
   "metadata": {
    "collapsed": false
   },
   "outputs": [],
   "source": [
    " !wc -l /home/user/r/crispreating/data/scaffolds_mm10_chr6_4000kbp_boundary/protospacers.stranded.fasta"
   ]
  },
  {
   "cell_type": "code",
   "execution_count": null,
   "metadata": {
    "collapsed": false
   },
   "outputs": [],
   "source": [
    "%%bash\n",
    "cd /home/user/r/crispreating/data/scaffolds_mm10_chr6_4000kbp_boundary/\n",
    "head -n  40000 protospacers.stranded.fasta | tail -40000 > protospacers.stranded.0.fasta\n",
    "head -n  80000 protospacers.stranded.fasta | tail -40000 > protospacers.stranded.1.fasta\n",
    "head -n 120000 protospacers.stranded.fasta | tail -31844 > protospacers.stranded.2.fasta\n",
    "cd -"
   ]
  },
  {
   "cell_type": "code",
   "execution_count": null,
   "metadata": {
    "collapsed": false
   },
   "outputs": [],
   "source": [
    " !wc -l /home/user/r/crispreating/data/scaffolds_mm10_chr6_4000kbp_boundary/protospacers.stranded.*"
   ]
  },
  {
   "cell_type": "code",
   "execution_count": null,
   "metadata": {
    "collapsed": true
   },
   "outputs": [],
   "source": []
  },
  {
   "cell_type": "code",
   "execution_count": null,
   "metadata": {
    "collapsed": false
   },
   "outputs": [],
   "source": [
    "%%bash\n",
    "cd /home/user/r/crispreating/data/scaffolds_mm10_chr6_4000kbp_boundary/\n",
    "head -n  2000 protospacers.stranded.0.fasta | tail -2000 > protospacers.stranded.00.fasta\n",
    "head -n  4000 protospacers.stranded.0.fasta | tail -2000 > protospacers.stranded.01.fasta\n",
    "head -n  6000 protospacers.stranded.0.fasta | tail -2000 > protospacers.stranded.02.fasta\n",
    "head -n  8000 protospacers.stranded.0.fasta | tail -2000 > protospacers.stranded.03.fasta\n",
    "head -n 10000 protospacers.stranded.0.fasta | tail -2000 > protospacers.stranded.04.fasta\n",
    "cd -"
   ]
  },
  {
   "cell_type": "code",
   "execution_count": null,
   "metadata": {
    "collapsed": false
   },
   "outputs": [],
   "source": [
    " !wc -l /home/user/r/crispreating/data/scaffolds_hg38chr21_1Mbp/protospacers.stranded.0*"
   ]
  },
  {
   "cell_type": "code",
   "execution_count": null,
   "metadata": {
    "collapsed": true
   },
   "outputs": [],
   "source": []
  },
  {
   "cell_type": "markdown",
   "metadata": {},
   "source": [
    "# prsp.blast"
   ]
  },
  {
   "cell_type": "code",
   "execution_count": 6,
   "metadata": {
    "collapsed": false
   },
   "outputs": [],
   "source": [
    "import protospacers as prsp\n",
    "reload(prsp)\n",
    "datadirpath = \"/home/user/r/crispreating/data/\""
   ]
  },
  {
   "cell_type": "code",
   "execution_count": 7,
   "metadata": {
    "collapsed": false
   },
   "outputs": [
    {
     "name": "stdout",
     "output_type": "stream",
     "text": [
      "blasting chunk  protospacers.stranded1x10 done\n",
      "blasting chunk  protospacers.stranded2x10 done\n",
      "blasting chunk  protospacers.stranded3x10 done\n",
      "all done with 3 chunks\n"
     ]
    },
    {
     "data": {
      "text/plain": [
       "3"
      ]
     },
     "execution_count": 7,
     "metadata": {},
     "output_type": "execute_result"
    }
   ],
   "source": [
    "prsp.blast(datadirpath + \"scaffolds_mm10_chr6_1kbp_boundary/\", 'protospacers.stranded', \n",
    "                 datadirpath + \"blastdb_mm10/\", 'mm10', 10, max_hsps=500)"
   ]
  },
  {
   "cell_type": "code",
   "execution_count": 9,
   "metadata": {
    "collapsed": false
   },
   "outputs": [
    {
     "name": "stdout",
     "output_type": "stream",
     "text": [
      "blasting chunk  protospacers.stranded1x300 done\n",
      "blasting chunk  protospacers.stranded2x300 done\n",
      "blasting chunk  protospacers.stranded3x300 done\n",
      "all done with 3 chunks\n"
     ]
    },
    {
     "data": {
      "text/plain": [
       "3"
      ]
     },
     "execution_count": 9,
     "metadata": {},
     "output_type": "execute_result"
    }
   ],
   "source": [
    "prsp.blast(datadirpath + \"scaffolds_mm10_chr6_40kbp_boundary/\", 'protospacers.stranded', \n",
    "                 datadirpath + \"blastdb_mm10/\", 'mm10', 300, max_hsps=500)"
   ]
  },
  {
   "cell_type": "code",
   "execution_count": null,
   "metadata": {
    "collapsed": false
   },
   "outputs": [],
   "source": [
    "prsp.blast(datadirpath + \"scaffolds_mm10_chr6_400kbp_boundary/\", 'protospacers.stranded', \n",
    "                 datadirpath + \"blastdb_mm10/\", 'mm10', 1000)"
   ]
  },
  {
   "cell_type": "code",
   "execution_count": null,
   "metadata": {
    "collapsed": false
   },
   "outputs": [],
   "source": [
    "prsp.blast(datadirpath + \"scaffolds_mm10_chr6_4000kbp_boundary/\", 'protospacers.stranded', \n",
    "                 datadirpath + \"blastdb_mm10/\", 'mm10', 1000)"
   ]
  },
  {
   "cell_type": "code",
   "execution_count": null,
   "metadata": {
    "collapsed": false
   },
   "outputs": [],
   "source": [
    "prsp.blast(datadirpath + \"scaffolds_hg18chr21_AP001625_130kbp/\", 'protospacers.stranded', \n",
    "                 datadirpath + \"blastdb_hg18/\", 'hg18', 500)"
   ]
  },
  {
   "cell_type": "code",
   "execution_count": 17,
   "metadata": {
    "collapsed": false
   },
   "outputs": [
    {
     "name": "stdout",
     "output_type": "stream",
     "text": [
      "blasting chunk  protospacers.stranded1x500 done\n",
      "blasting chunk  protospacers.stranded2x500 ***\n",
      "Ooops! Bio:Application:ApplicationError:  Non-zero return code 134 from 'blastn -out /home/user/r/crispreating/data/scaffolds_hg38chr21_1000kbp/protospacers.stranded2x500.blast -outfmt 5 -query /home/user/r/crispreating/data/scaffolds_hg38chr21_1000kbp/protospacers.stranded2x500.fasta -db /home/user/r/crispreating/data/blastdb_hg38/hg38 -evalue 10 -max_target_seqs 25 -max_hsps 100 -num_threads 6 -task blastn-short -dust no', message 'Aborted (core dumped)'\n",
      "***\n",
      "done\n",
      "blasting chunk  protospacers.stranded3x500 done\n",
      "blasting chunk  protospacers.stranded4x500 done\n",
      "blasting chunk  protospacers.stranded5x500 done\n",
      "blasting chunk  protospacers.stranded6x500 done\n",
      "blasting chunk  protospacers.stranded7x500 ***\n",
      "Ooops! Bio:Application:ApplicationError:  Non-zero return code 134 from 'blastn -out /home/user/r/crispreating/data/scaffolds_hg38chr21_1000kbp/protospacers.stranded7x500.blast -outfmt 5 -query /home/user/r/crispreating/data/scaffolds_hg38chr21_1000kbp/protospacers.stranded7x500.fasta -db /home/user/r/crispreating/data/blastdb_hg38/hg38 -evalue 10 -max_target_seqs 25 -max_hsps 100 -num_threads 6 -task blastn-short -dust no', message 'Aborted (core dumped)'\n",
      "***\n",
      "done\n",
      "blasting chunk  protospacers.stranded8x500 done\n",
      "blasting chunk  protospacers.stranded9x500 done\n",
      "blasting chunk  protospacers.stranded10x500 done\n",
      "blasting chunk  protospacers.stranded11x500 ***\n",
      "Ooops! Bio:Application:ApplicationError:  Non-zero return code 134 from 'blastn -out /home/user/r/crispreating/data/scaffolds_hg38chr21_1000kbp/protospacers.stranded11x500.blast -outfmt 5 -query /home/user/r/crispreating/data/scaffolds_hg38chr21_1000kbp/protospacers.stranded11x500.fasta -db /home/user/r/crispreating/data/blastdb_hg38/hg38 -evalue 10 -max_target_seqs 25 -max_hsps 100 -num_threads 6 -task blastn-short -dust no', message 'Aborted (core dumped)'\n",
      "***\n",
      "done\n",
      "blasting chunk  protospacers.stranded12x500 ***\n",
      "Ooops! Bio:Application:ApplicationError:  Non-zero return code 139 from 'blastn -out /home/user/r/crispreating/data/scaffolds_hg38chr21_1000kbp/protospacers.stranded12x500.blast -outfmt 5 -query /home/user/r/crispreating/data/scaffolds_hg38chr21_1000kbp/protospacers.stranded12x500.fasta -db /home/user/r/crispreating/data/blastdb_hg38/hg38 -evalue 10 -max_target_seqs 25 -max_hsps 100 -num_threads 6 -task blastn-short -dust no', message 'Segmentation fault (core dumped)'\n",
      "***\n",
      "done\n",
      "blasting chunk  protospacers.stranded13x500 done\n",
      "blasting chunk  protospacers.stranded14x500 done\n",
      "blasting chunk  protospacers.stranded15x500 done\n",
      "blasting chunk  protospacers.stranded16x500 done\n",
      "blasting chunk  protospacers.stranded17x500 done\n",
      "blasting chunk  protospacers.stranded18x500 done\n",
      "blasting chunk  protospacers.stranded19x500 done\n",
      "blasting chunk  protospacers.stranded20x500 done\n",
      "blasting chunk  protospacers.stranded21x500 done\n",
      "blasting chunk  protospacers.stranded22x500 ***\n",
      "Ooops! Bio:Application:ApplicationError:  Non-zero return code 134 from 'blastn -out /home/user/r/crispreating/data/scaffolds_hg38chr21_1000kbp/protospacers.stranded22x500.blast -outfmt 5 -query /home/user/r/crispreating/data/scaffolds_hg38chr21_1000kbp/protospacers.stranded22x500.fasta -db /home/user/r/crispreating/data/blastdb_hg38/hg38 -evalue 10 -max_target_seqs 25 -max_hsps 100 -num_threads 6 -task blastn-short -dust no', message 'Aborted (core dumped)'\n",
      "***\n",
      "done\n",
      "blasting chunk  protospacers.stranded23x500 done\n",
      "blasting chunk  protospacers.stranded24x500 ***\n",
      "Ooops! Bio:Application:ApplicationError:  Non-zero return code 134 from 'blastn -out /home/user/r/crispreating/data/scaffolds_hg38chr21_1000kbp/protospacers.stranded24x500.blast -outfmt 5 -query /home/user/r/crispreating/data/scaffolds_hg38chr21_1000kbp/protospacers.stranded24x500.fasta -db /home/user/r/crispreating/data/blastdb_hg38/hg38 -evalue 10 -max_target_seqs 25 -max_hsps 100 -num_threads 6 -task blastn-short -dust no', message 'Aborted (core dumped)'\n",
      "***\n",
      "done\n",
      "blasting chunk  protospacers.stranded25x500 done\n",
      "blasting chunk  protospacers.stranded26x500 done\n",
      "blasting chunk  protospacers.stranded27x500 ***\n",
      "Ooops! Bio:Application:ApplicationError:  Non-zero return code 134 from 'blastn -out /home/user/r/crispreating/data/scaffolds_hg38chr21_1000kbp/protospacers.stranded27x500.blast -outfmt 5 -query /home/user/r/crispreating/data/scaffolds_hg38chr21_1000kbp/protospacers.stranded27x500.fasta -db /home/user/r/crispreating/data/blastdb_hg38/hg38 -evalue 10 -max_target_seqs 25 -max_hsps 100 -num_threads 6 -task blastn-short -dust no', message 'Aborted (core dumped)'\n",
      "***\n",
      "done\n",
      "blasting chunk  protospacers.stranded28x500 ***\n",
      "Ooops! Bio:Application:ApplicationError:  Non-zero return code 134 from 'blastn -out /home/user/r/crispreating/data/scaffolds_hg38chr21_1000kbp/protospacers.stranded28x500.blast -outfmt 5 -query /home/user/r/crispreating/data/scaffolds_hg38chr21_1000kbp/protospacers.stranded28x500.fasta -db /home/user/r/crispreating/data/blastdb_hg38/hg38 -evalue 10 -max_target_seqs 25 -max_hsps 100 -num_threads 6 -task blastn-short -dust no', message 'Aborted (core dumped)'\n",
      "***\n",
      "done\n",
      "blasting chunk  protospacers.stranded29x500 done\n",
      "blasting chunk  protospacers.stranded30x500 ***\n",
      "Ooops! Bio:Application:ApplicationError:  Non-zero return code 134 from 'blastn -out /home/user/r/crispreating/data/scaffolds_hg38chr21_1000kbp/protospacers.stranded30x500.blast -outfmt 5 -query /home/user/r/crispreating/data/scaffolds_hg38chr21_1000kbp/protospacers.stranded30x500.fasta -db /home/user/r/crispreating/data/blastdb_hg38/hg38 -evalue 10 -max_target_seqs 25 -max_hsps 100 -num_threads 6 -task blastn-short -dust no', message 'Aborted (core dumped)'\n",
      "***\n",
      "done\n",
      "blasting chunk  protospacers.stranded31x500 ***\n",
      "Ooops! Bio:Application:ApplicationError:  Non-zero return code 134 from 'blastn -out /home/user/r/crispreating/data/scaffolds_hg38chr21_1000kbp/protospacers.stranded31x500.blast -outfmt 5 -query /home/user/r/crispreating/data/scaffolds_hg38chr21_1000kbp/protospacers.stranded31x500.fasta -db /home/user/r/crispreating/data/blastdb_hg38/hg38 -evalue 10 -max_target_seqs 25 -max_hsps 100 -num_threads 6 -task blastn-short -dust no', message 'Aborted (core dumped)'\n",
      "***\n",
      "done\n",
      "blasting chunk  protospacers.stranded32x500 done\n",
      "blasting chunk  protospacers.stranded33x500 done\n",
      "blasting chunk  protospacers.stranded34x500 ***\n",
      "Ooops! Bio:Application:ApplicationError:  Non-zero return code 134 from 'blastn -out /home/user/r/crispreating/data/scaffolds_hg38chr21_1000kbp/protospacers.stranded34x500.blast -outfmt 5 -query /home/user/r/crispreating/data/scaffolds_hg38chr21_1000kbp/protospacers.stranded34x500.fasta -db /home/user/r/crispreating/data/blastdb_hg38/hg38 -evalue 10 -max_target_seqs 25 -max_hsps 100 -num_threads 6 -task blastn-short -dust no', message 'Aborted (core dumped)'\n",
      "***\n",
      "done\n",
      "blasting chunk  protospacers.stranded35x500 done\n",
      "blasting chunk  protospacers.stranded36x500 done\n",
      "blasting chunk  protospacers.stranded37x500 done\n",
      "all done with 37 chunks\n"
     ]
    },
    {
     "data": {
      "text/plain": [
       "37"
      ]
     },
     "execution_count": 17,
     "metadata": {},
     "output_type": "execute_result"
    }
   ],
   "source": [
    "prsp.blast(datadirpath + \"scaffolds_hg38chr21_1000kbp/\", 'protospacers.stranded', \n",
    "                 datadirpath + \"blastdb_hg38/\", 'hg38', 500, max_hsps=200)"
   ]
  },
  {
   "cell_type": "code",
   "execution_count": null,
   "metadata": {
    "collapsed": false
   },
   "outputs": [],
   "source": [
    "prsp.blast(datadirpath + \"scaffolds_xenopuslaevis_Scaffold102974/\", 'protospacers.stranded',\n",
    "                 datadirpath + \"blastdb_xenopuslaevis/\", 'xenopuslaevis', 1000)"
   ]
  },
  {
   "cell_type": "markdown",
   "metadata": {
    "collapsed": true
   },
   "source": [
    "---"
   ]
  },
  {
   "cell_type": "code",
   "execution_count": null,
   "metadata": {
    "collapsed": false
   },
   "outputs": [],
   "source": [
    "prsp.blast1(datadirpath + \"scaffolds_ecoliK12DH10B/\", 'protospacers.stranded', \n",
    "           datadirpath + \"blastdb_ecoli/\", 'ecoli', 1000)"
   ]
  },
  {
   "cell_type": "code",
   "execution_count": null,
   "metadata": {
    "collapsed": true
   },
   "outputs": [],
   "source": [
    "prsp.blast1(datadirpath + \"scaffolds_ecoli2/\", 'protospacers.stranded', \n",
    "           datadirpath + \"blastdb_ecoli2/\", 'ecoli2')"
   ]
  },
  {
   "cell_type": "code",
   "execution_count": null,
   "metadata": {
    "collapsed": true
   },
   "outputs": [],
   "source": [
    "prsp.blast1(datadirpath + \"scaffolds_yeast/\", 'protospacers.stranded', \n",
    "           datadirpath + \"blastdb_yeast/\", 'yeast')"
   ]
  },
  {
   "cell_type": "code",
   "execution_count": null,
   "metadata": {
    "collapsed": true
   },
   "outputs": [],
   "source": [
    "prsp.blast1(datadirpath + \"scaffolds_ce10/\", 'protospacers.stranded', \n",
    "           datadirpath + \"blastdb_ce10/\", 'ce10')"
   ]
  },
  {
   "cell_type": "code",
   "execution_count": null,
   "metadata": {
    "collapsed": false
   },
   "outputs": [],
   "source": [
    "prsp.blast1(datadirpath + \"scaffolds_mm10_chr6_1kbp_boundary/\", 'protospacers.stranded', \n",
    "           datadirpath + \"blastdb_mm10/\", 'mm10')"
   ]
  },
  {
   "cell_type": "code",
   "execution_count": null,
   "metadata": {
    "collapsed": false
   },
   "outputs": [],
   "source": [
    "prsp.blast1(datadirpath + \"scaffolds_mm10_chr6_40kbp_boundary/\", 'protospacers.stranded', \n",
    "           datadirpath + \"blastdb_mm10/\", 'mm10')"
   ]
  },
  {
   "cell_type": "code",
   "execution_count": null,
   "metadata": {
    "collapsed": false
   },
   "outputs": [],
   "source": [
    "prsp.blast1(datadirpath + \"scaffolds_mm10_chr6_400kbp_boundary/\", 'protospacers.stranded', \n",
    "           datadirpath + \"blastdb_mm10/\", 'mm10')"
   ]
  },
  {
   "cell_type": "code",
   "execution_count": null,
   "metadata": {
    "collapsed": false
   },
   "outputs": [],
   "source": [
    "prsp.blast1(datadirpath + \"scaffolds_mm10_chr6_4000kbp_boundary/\", 'protospaccers.stranded.0', \n",
    "           datadirpath + \"blastdb_mm10/\", 'mm10')"
   ]
  },
  {
   "cell_type": "code",
   "execution_count": null,
   "metadata": {
    "collapsed": false
   },
   "outputs": [],
   "source": [
    "prsp.blast1(datadirpath + \"scaffolds_mm10_chr6_400kbp_boundary/\", 'protospaccers.stranded.1', \n",
    "           datadirpath + \"blastdb_mm10/\", 'mm10')"
   ]
  },
  {
   "cell_type": "code",
   "execution_count": null,
   "metadata": {
    "collapsed": false
   },
   "outputs": [],
   "source": [
    "prsp.blast1(datadirpath + \"scaffolds_mm10_chr6_400kbp_boundary/\", 'protospaccers.stranded.2', \n",
    "           datadirpath + \"blastdb_mm10/\", 'mm10')"
   ]
  },
  {
   "cell_type": "code",
   "execution_count": null,
   "metadata": {
    "collapsed": true
   },
   "outputs": [],
   "source": [
    "prsp.blast1(datadirpath + \"scaffolds_xenopuslaevis_Scaffold102974/\", 'protospacers.stranded', \n",
    "           datadirpath + \"blastdb_xenopuslaevis/\", 'xenopuslaevis')"
   ]
  },
  {
   "cell_type": "code",
   "execution_count": null,
   "metadata": {
    "collapsed": true
   },
   "outputs": [],
   "source": [
    "prsp.blast1(datadirpath + \"scaffolds_hg18chr21_AP001625/\", 'protospacers.stranded', \n",
    "           datadirpath + \"blastdb_hg18/\", 'hg18')"
   ]
  },
  {
   "cell_type": "code",
   "execution_count": null,
   "metadata": {
    "collapsed": true
   },
   "outputs": [],
   "source": [
    "# prsp.blast1(datadirpath + \"scaffolds_mm9_whole/\", 'protospacers.stranded', \n",
    "#             datadirpath + \"blastdb_hg18/\", 'hg18')"
   ]
  },
  {
   "cell_type": "markdown",
   "metadata": {},
   "source": [
    "# prsp.score"
   ]
  },
  {
   "cell_type": "code",
   "execution_count": 1,
   "metadata": {
    "collapsed": false
   },
   "outputs": [],
   "source": [
    "import protospacers as prsp\n",
    "reload(prsp)\n",
    "datadirpath = \"/home/user/r/crispreating/data/\""
   ]
  },
  {
   "cell_type": "code",
   "execution_count": 8,
   "metadata": {
    "collapsed": false
   },
   "outputs": [
    {
     "name": "stdout",
     "output_type": "stream",
     "text": [
      "reading genome done\n",
      "parsing /home/user/r/crispreating/data/scaffolds_mm10_chr6_1kbp_boundary/protospacers.stranded1x10.blast\n",
      " done\n",
      "parsing /home/user/r/crispreating/data/scaffolds_mm10_chr6_1kbp_boundary/protospacers.stranded2x10.blast\n",
      " done\n",
      "parsing /home/user/r/crispreating/data/scaffolds_mm10_chr6_1kbp_boundary/protospacers.stranded3x10.blast\n",
      " done\n",
      "\n",
      "4 amplicons totaling 175 bps yielding a total of 7 guides\n",
      "with average amplicon of 43.0 bps yielding 1.0 guides\n",
      "\n",
      "top 15 amplicons totaling 175 bps yielding a total of 7 guides\n",
      "with average amplicon of 43.0 bps yielding 1.0 guides\n",
      "\n",
      "927 - 982 (55 bps) yields 3 guides (54 guides per 1000bps )\n",
      "269 - 310 (41 bps) yields 2 guides (48 guides per 1000bps )\n",
      "754 - 792 (38 bps) yields 1 guides (26 guides per 1000bps )\n",
      "893 - 934 (41 bps) yields 1 guides (24 guides per 1000bps )\n",
      "\n",
      "\n",
      "\n",
      "distribution of scores among all 30 guides (score, nb of guides with that score)\n",
      "[(2, 1), (13, 1), (15, 1), (16, 1), (30, 1), (36, 1), (39, 1), (44, 1), (47, 2), (53, 1), (55, 1), (59, 2), (60, 2), (61, 1), (62, 2), (63, 2), (64, 2), (65, 1), (66, 6)]\n"
     ]
    },
    {
     "data": {
      "image/png": "[encoded data removed]",
      "text/plain": [
       "<matplotlib.figure.Figure at 0x7f33c0044150>"
      ]
     },
     "metadata": {},
     "output_type": "display_data"
    }
   ],
   "source": [
    "guides1k, ampls1k = prsp.score(datadirpath + \"scaffolds_mm10_chr6_1kbp_boundary/\", 'protospacers.stranded', \n",
    "                      datadirpath + \"blastdb_mm10/\", 'mm10',\n",
    "                      10, 3, 'chr6', low=30, high=65, load_genome=True, howmany=15)"
   ]
  },
  {
   "cell_type": "code",
   "execution_count": 15,
   "metadata": {
    "collapsed": false
   },
   "outputs": [
    {
     "name": "stdout",
     "output_type": "stream",
     "text": [
      "reading genome done\n",
      "parsing /home/user/r/crispreating/data/scaffolds_mm10_chr6_40kbp_boundary/protospacers.stranded1x300.blast\n",
      " done\n",
      "parsing /home/user/r/crispreating/data/scaffolds_mm10_chr6_40kbp_boundary/protospacers.stranded2x300.blast\n",
      " done\n",
      "parsing /home/user/r/crispreating/data/scaffolds_mm10_chr6_40kbp_boundary/protospacers.stranded3x300.blast\n",
      " done\n",
      "\n",
      "42 amplicons totaling 34903 bps yielding a total of 624 guides\n",
      "with average amplicon of 831.0 bps yielding 14.0 guides\n",
      "\n",
      "top 18 amplicons totaling 31362 bps yielding a total of 552 guides\n",
      "with average amplicon of 1742.0 bps yielding 30.0 guides\n",
      "\n",
      "19694 - 24113 (4419 bps) yields 98 guides (22 guides per 1000bps )\n",
      "10796 - 15583 (4787 bps) yields 86 guides (17 guides per 1000bps )\n",
      "5117 - 7896 (2779 bps) yields 47 guides (16 guides per 1000bps )\n",
      "27240 - 29565 (2325 bps) yields 47 guides (20 guides per 1000bps )\n",
      "0 - 3294 (3294 bps) yields 44 guides (13 guides per 1000bps )\n",
      "8245 - 10481 (2236 bps) yields 39 guides (17 guides per 1000bps )\n",
      "16754 - 19682 (2928 bps) yields 38 guides (12 guides per 1000bps )\n",
      "25007 - 25582 (575 bps) yields 23 guides (40 guides per 1000bps )\n",
      "24130 - 24743 (613 bps) yields 18 guides (29 guides per 1000bps )\n",
      "32279 - 33165 (886 bps) yields 18 guides (20 guides per 1000bps )\n",
      "25798 - 26556 (758 bps) yields 17 guides (22 guides per 1000bps )\n",
      "3296 - 5111 (1815 bps) yields 15 guides (8 guides per 1000bps )\n",
      "16213 - 16723 (510 bps) yields 14 guides (27 guides per 1000bps )\n",
      "30530 - 32222 (1692 bps) yields 12 guides (7 guides per 1000bps )\n",
      "35327 - 35983 (656 bps) yields 12 guides (18 guides per 1000bps )\n",
      "29553 - 30158 (605 bps) yields 9 guides (14 guides per 1000bps )\n",
      "26897 - 27155 (258 bps) yields 8 guides (31 guides per 1000bps )\n",
      "34337 - 34563 (226 bps) yields 7 guides (30 guides per 1000bps )\n",
      "\n",
      "33705 - 34065 (360 bps) yields 6 guides (16 guides per 1000bps )\n",
      "34915 - 35338 (423 bps) yields 6 guides (14 guides per 1000bps )\n",
      "10579 - 10786 (207 bps) yields 5 guides (24 guides per 1000bps )\n",
      "34800 - 34843 (43 bps) yields 5 guides (116 guides per 1000bps )\n",
      "32225 - 32286 (61 bps) yields 4 guides (65 guides per 1000bps )\n",
      "33150 - 33279 (129 bps) yields 4 guides (31 guides per 1000bps )\n",
      "33498 - 33664 (166 bps) yields 4 guides (24 guides per 1000bps )\n",
      "36509 - 36654 (145 bps) yields 4 guides (27 guides per 1000bps )\n",
      "7898 - 8245 (347 bps) yields 3 guides (8 guides per 1000bps )\n",
      "30205 - 30374 (169 bps) yields 3 guides (17 guides per 1000bps )\n",
      "30375 - 30482 (107 bps) yields 3 guides (28 guides per 1000bps )\n",
      "33267 - 33328 (61 bps) yields 3 guides (49 guides per 1000bps )\n",
      "33441 - 33500 (59 bps) yields 3 guides (50 guides per 1000bps )\n",
      "36657 - 37467 (810 bps) yields 3 guides (3 guides per 1000bps )\n",
      "15640 - 15689 (49 bps) yields 2 guides (40 guides per 1000bps )\n",
      "24817 - 24864 (47 bps) yields 2 guides (42 guides per 1000bps )\n",
      "26611 - 26653 (42 bps) yields 2 guides (47 guides per 1000bps )\n",
      "26662 - 26705 (43 bps) yields 2 guides (46 guides per 1000bps )\n",
      "\n",
      "\n",
      "distribution of scores among all 742 guides (score, nb of guides with that score)\n",
      "[(0, 14), (1, 6), (2, 5), (3, 6), (4, 1), (6, 3), (7, 4), (10, 2), (11, 3), (13, 1), (14, 1), (15, 1), (16, 3), (20, 2), (22, 3), (25, 2), (28, 3), (33, 6), (40, 10), (50, 9), (66, 25), (100, 632)]\n"
     ]
    },
    {
     "data": {
      "image/png": "[encoded data removed]",
      "text/plain": [
       "<matplotlib.figure.Figure at 0x7f33c9b06990>"
      ]
     },
     "metadata": {},
     "output_type": "display_data"
    }
   ],
   "source": [
    "guides40k, ampls40k = prsp.score(datadirpath + \"scaffolds_mm10_chr6_40kbp_boundary/\", 'protospacers.stranded', \n",
    "                       datadirpath + \"blastdb_mm10/\", 'mm10',\n",
    "                       300, 3, 'chr6', low=10, high=66, load_genome=True, howmany=18)"
   ]
  },
  {
   "cell_type": "code",
   "execution_count": null,
   "metadata": {
    "collapsed": true
   },
   "outputs": [],
   "source": [
    "guides400k, ampls400k = prsp.score(datadirpath + \"scaffolds_mm10_chr6_400kbp_boundary/\", 'protospacers.stranded', \n",
    "                        datadirpath + \"blastdb_mm10/\", 'mm10',\n",
    "                        1000, 3, 'chr6', low=10, high=90, load_genome=True)"
   ]
  },
  {
   "cell_type": "code",
   "execution_count": null,
   "metadata": {
    "collapsed": true
   },
   "outputs": [],
   "source": [
    "guides4000k, ampls4000k = prsp.score(datadirpath + \"scaffolds_mm10_chr6_4000kbp_boundary/\", 'protospacers.stranded', \n",
    "                        datadirpath + \"blastdb_mm10/\", 'mm10',\n",
    "                        1000, 2, 'chr6', low=10, high=90, load_genome=True)"
   ]
  },
  {
   "cell_type": "code",
   "execution_count": 3,
   "metadata": {
    "collapsed": false
   },
   "outputs": [
    {
     "name": "stdout",
     "output_type": "stream",
     "text": [
      "reading genome done\n",
      "parsing /home/user/r/crispreating/data/scaffolds_hg38chr21_1000kbp/protospacers.stranded1x1000.blast\n",
      " done\n",
      "parsing /home/user/r/crispreating/data/scaffolds_hg38chr21_1000kbp/protospacers.stranded2x1000.blast\n",
      " done\n",
      "parsing /home/user/r/crispreating/data/scaffolds_hg38chr21_1000kbp/protospacers.stranded3x1000.blast\n",
      " done\n",
      "parsing /home/user/r/crispreating/data/scaffolds_hg38chr21_1000kbp/protospacers.stranded4x1000.blast\n",
      " done\n",
      "parsing /home/user/r/crispreating/data/scaffolds_hg38chr21_1000kbp/protospacers.stranded5x1000.blast\n",
      " done\n",
      "parsing /home/user/r/crispreating/data/scaffolds_hg38chr21_1000kbp/protospacers.stranded6x1000.blast\n",
      " done\n",
      "parsing /home/user/r/crispreating/data/scaffolds_hg38chr21_1000kbp/protospacers.stranded7x1000.blast\n",
      " done\n",
      "parsing /home/user/r/crispreating/data/scaffolds_hg38chr21_1000kbp/protospacers.stranded8x1000.blast\n",
      " done\n",
      "parsing /home/user/r/crispreating/data/scaffolds_hg38chr21_1000kbp/protospacers.stranded9x1000.blast\n",
      " done\n",
      "parsing /home/user/r/crispreating/data/scaffolds_hg38chr21_1000kbp/protospacers.stranded10x1000.blast\n",
      " done\n",
      "parsing /home/user/r/crispreating/data/scaffolds_hg38chr21_1000kbp/protospacers.stranded11x1000.blast\n",
      " done\n",
      "skipping  /home/user/r/crispreating/data/scaffolds_hg38chr21_1000kbp/protospacers.stranded12x1000.blast\n",
      " parsing /home/user/r/crispreating/data/scaffolds_hg38chr21_1000kbp/protospacers.stranded13x1000.blast\n",
      " done\n",
      "parsing /home/user/r/crispreating/data/scaffolds_hg38chr21_1000kbp/protospacers.stranded14x1000.blast\n",
      " done\n",
      "parsing /home/user/r/crispreating/data/scaffolds_hg38chr21_1000kbp/protospacers.stranded15x1000.blast\n",
      " done\n",
      "skipping  /home/user/r/crispreating/data/scaffolds_hg38chr21_1000kbp/protospacers.stranded16x1000.blast\n",
      " parsing /home/user/r/crispreating/data/scaffolds_hg38chr21_1000kbp/protospacers.stranded17x1000.blast\n",
      " done\n",
      "parsing /home/user/r/crispreating/data/scaffolds_hg38chr21_1000kbp/protospacers.stranded18x1000.blast\n",
      " done\n",
      "parsing /home/user/r/crispreating/data/scaffolds_hg38chr21_1000kbp/protospacers.stranded19x1000.blast\n",
      " done\n",
      "\n",
      "2249 amplicons totaling 445294 bps yielding a total of 8776 guides\n",
      "with average amplicon of 197.0 bps yielding 3.0 guides\n",
      "\n",
      "top 64 amplicons totaling 133501 bps yielding a total of 3051 guides\n",
      "with average amplicon of 2085.0 bps yielding 47.0 guides\n",
      "\n",
      "144480 - 151334 (6854 bps) yields 174 guides (25 guides per 1000bps )\n",
      "252874 - 259261 (6387 bps) yields 127 guides (19 guides per 1000bps )\n",
      "198320 - 205041 (6721 bps) yields 122 guides (18 guides per 1000bps )\n",
      "247859 - 251457 (3598 bps) yields 120 guides (33 guides per 1000bps )\n",
      "41531 - 44409 (2878 bps) yields 113 guides (39 guides per 1000bps )\n",
      "157442 - 160284 (2842 bps) yields 102 guides (35 guides per 1000bps )\n",
      "18014 - 21873 (3859 bps) yields 90 guides (23 guides per 1000bps )\n",
      "227432 - 231113 (3681 bps) yields 82 guides (22 guides per 1000bps )\n",
      "126301 - 129532 (3231 bps) yields 74 guides (22 guides per 1000bps )\n",
      "113060 - 116700 (3640 bps) yields 72 guides (19 guides per 1000bps )\n",
      "640087 - 641438 (1351 bps) yields 69 guides (51 guides per 1000bps )\n",
      "225192 - 227022 (1830 bps) yields 65 guides (35 guides per 1000bps )\n",
      "152658 - 157458 (4800 bps) yields 62 guides (12 guides per 1000bps )\n",
      "243888 - 246010 (2122 bps) yields 61 guides (28 guides per 1000bps )\n",
      "124023 - 125631 (1608 bps) yields 57 guides (35 guides per 1000bps )\n",
      "261641 - 263457 (1816 bps) yields 55 guides (30 guides per 1000bps )\n",
      "60943 - 62555 (1612 bps) yields 54 guides (33 guides per 1000bps )\n",
      "190814 - 192680 (1866 bps) yields 54 guides (28 guides per 1000bps )\n",
      "162768 - 165481 (2713 bps) yields 52 guides (19 guides per 1000bps )\n",
      "39695 - 41371 (1676 bps) yields 50 guides (29 guides per 1000bps )\n",
      "182869 - 184241 (1372 bps) yields 47 guides (34 guides per 1000bps )\n",
      "99077 - 101743 (2666 bps) yields 46 guides (17 guides per 1000bps )\n",
      "206210 - 208422 (2212 bps) yields 45 guides (20 guides per 1000bps )\n",
      "151573 - 152671 (1098 bps) yields 44 guides (40 guides per 1000bps )\n",
      "160482 - 162774 (2292 bps) yields 43 guides (18 guides per 1000bps )\n",
      "193728 - 197049 (3321 bps) yields 42 guides (12 guides per 1000bps )\n",
      "118735 - 120769 (2034 bps) yields 40 guides (19 guides per 1000bps )\n",
      "96410 - 98386 (1976 bps) yields 39 guides (19 guides per 1000bps )\n",
      "400484 - 402065 (1581 bps) yields 39 guides (24 guides per 1000bps )\n",
      "102132 - 103547 (1415 bps) yields 37 guides (26 guides per 1000bps )\n",
      "382288 - 384397 (2109 bps) yields 37 guides (17 guides per 1000bps )\n",
      "445037 - 445517 (480 bps) yields 37 guides (77 guides per 1000bps )\n",
      "519871 - 522248 (2377 bps) yields 37 guides (15 guides per 1000bps )\n",
      "32444 - 35751 (3307 bps) yields 35 guides (10 guides per 1000bps )\n",
      "65247 - 67395 (2148 bps) yields 35 guides (16 guides per 1000bps )\n",
      "187215 - 189348 (2133 bps) yields 34 guides (15 guides per 1000bps )\n",
      "267758 - 269321 (1563 bps) yields 34 guides (21 guides per 1000bps )\n",
      "272728 - 274594 (1866 bps) yields 34 guides (18 guides per 1000bps )\n",
      "49960 - 52023 (2063 bps) yields 33 guides (15 guides per 1000bps )\n",
      "121705 - 123931 (2226 bps) yields 33 guides (14 guides per 1000bps )\n",
      "27869 - 29667 (1798 bps) yields 32 guides (17 guides per 1000bps )\n",
      "110968 - 112624 (1656 bps) yields 32 guides (19 guides per 1000bps )\n",
      "197050 - 197922 (872 bps) yields 32 guides (36 guides per 1000bps )\n",
      "351410 - 352921 (1511 bps) yields 32 guides (21 guides per 1000bps )\n",
      "37093 - 38615 (1522 bps) yields 31 guides (20 guides per 1000bps )\n",
      "14819 - 16198 (1379 bps) yields 30 guides (21 guides per 1000bps )\n",
      "214527 - 215701 (1174 bps) yields 29 guides (24 guides per 1000bps )\n",
      "165539 - 167193 (1654 bps) yields 28 guides (16 guides per 1000bps )\n",
      "185617 - 186719 (1102 bps) yields 28 guides (25 guides per 1000bps )\n",
      "132594 - 133839 (1245 bps) yields 27 guides (21 guides per 1000bps )\n",
      "208409 - 209297 (888 bps) yields 26 guides (29 guides per 1000bps )\n",
      "260265 - 261631 (1366 bps) yields 26 guides (19 guides per 1000bps )\n",
      "582324 - 583671 (1347 bps) yields 25 guides (18 guides per 1000bps )\n",
      "133901 - 135082 (1181 bps) yields 24 guides (20 guides per 1000bps )\n",
      "251777 - 252505 (728 bps) yields 24 guides (32 guides per 1000bps )\n",
      "277524 - 279125 (1601 bps) yields 23 guides (14 guides per 1000bps )\n",
      "308708 - 310043 (1335 bps) yields 23 guides (17 guides per 1000bps )\n",
      "355057 - 355944 (887 bps) yields 23 guides (25 guides per 1000bps )\n",
      "98482 - 99083 (601 bps) yields 22 guides (36 guides per 1000bps )\n",
      "189707 - 190674 (967 bps) yields 22 guides (22 guides per 1000bps )\n",
      "205326 - 206218 (892 bps) yields 22 guides (24 guides per 1000bps )\n",
      "350407 - 351247 (840 bps) yields 22 guides (26 guides per 1000bps )\n",
      "47170 - 48074 (904 bps) yields 21 guides (23 guides per 1000bps )\n",
      "288256 - 288983 (727 bps) yields 21 guides (28 guides per 1000bps )\n",
      "\n",
      "30953 - 32146 (1193 bps) yields 20 guides (16 guides per 1000bps )\n",
      "242277 - 243633 (1356 bps) yields 20 guides (14 guides per 1000bps )\n",
      "327020 - 327548 (528 bps) yields 20 guides (37 guides per 1000bps )\n",
      "515887 - 516963 (1076 bps) yields 20 guides (18 guides per 1000bps )\n",
      "589752 - 590635 (883 bps) yields 20 guides (22 guides per 1000bps )\n",
      "637701 - 638150 (449 bps) yields 20 guides (44 guides per 1000bps )\n",
      "117356 - 118755 (1399 bps) yields 19 guides (13 guides per 1000bps )\n",
      "297874 - 298605 (731 bps) yields 19 guides (25 guides per 1000bps )\n",
      "310275 - 310966 (691 bps) yields 19 guides (27 guides per 1000bps )\n",
      "45124 - 46511 (1387 bps) yields 18 guides (12 guides per 1000bps )\n",
      "167504 - 168371 (867 bps) yields 18 guides (20 guides per 1000bps )\n",
      "314577 - 315471 (894 bps) yields 18 guides (20 guides per 1000bps )\n",
      "352994 - 353983 (989 bps) yields 18 guides (18 guides per 1000bps )\n",
      "355946 - 356714 (768 bps) yields 18 guides (23 guides per 1000bps )\n",
      "526476 - 527263 (787 bps) yields 18 guides (22 guides per 1000bps )\n",
      "634211 - 635150 (939 bps) yields 18 guides (19 guides per 1000bps )\n",
      "48331 - 49959 (1628 bps) yields 17 guides (10 guides per 1000bps )\n",
      "290611 - 291228 (617 bps) yields 17 guides (27 guides per 1000bps )\n",
      "291482 - 292557 (1075 bps) yields 17 guides (15 guides per 1000bps )\n",
      "345698 - 346268 (570 bps) yields 17 guides (29 guides per 1000bps )\n",
      "433243 - 434220 (977 bps) yields 17 guides (17 guides per 1000bps )\n",
      "439065 - 440643 (1578 bps) yields 17 guides (10 guides per 1000bps )\n",
      "606720 - 607640 (920 bps) yields 17 guides (18 guides per 1000bps )\n",
      "635216 - 635663 (447 bps) yields 17 guides (38 guides per 1000bps )\n",
      "16554 - 17669 (1115 bps) yields 16 guides (14 guides per 1000bps )\n",
      "67634 - 69261 (1627 bps) yields 16 guides (9 guides per 1000bps )\n",
      "104460 - 105380 (920 bps) yields 16 guides (17 guides per 1000bps )\n",
      "212239 - 212753 (514 bps) yields 16 guides (31 guides per 1000bps )\n",
      "284145 - 285320 (1175 bps) yields 16 guides (13 guides per 1000bps )\n",
      "286974 - 287966 (992 bps) yields 16 guides (16 guides per 1000bps )\n",
      "327729 - 328298 (569 bps) yields 16 guides (28 guides per 1000bps )\n",
      "422491 - 423191 (700 bps) yields 16 guides (22 guides per 1000bps )\n",
      "602137 - 602872 (735 bps) yields 16 guides (21 guides per 1000bps )\n",
      "82002 - 83035 (1033 bps) yields 15 guides (14 guides per 1000bps )\n",
      "83057 - 83843 (786 bps) yields 15 guides (19 guides per 1000bps )\n",
      "424239 - 425171 (932 bps) yields 15 guides (16 guides per 1000bps )\n",
      "456631 - 457266 (635 bps) yields 15 guides (23 guides per 1000bps )\n",
      "528351 - 528963 (612 bps) yields 15 guides (24 guides per 1000bps )\n",
      "531809 - 532487 (678 bps) yields 15 guides (22 guides per 1000bps )\n",
      "588015 - 589543 (1528 bps) yields 15 guides (9 guides per 1000bps )\n",
      "635815 - 636366 (551 bps) yields 15 guides (27 guides per 1000bps )\n",
      "103880 - 104418 (538 bps) yields 14 guides (26 guides per 1000bps )\n",
      "169787 - 170964 (1177 bps) yields 14 guides (11 guides per 1000bps )\n",
      "354049 - 355076 (1027 bps) yields 14 guides (13 guides per 1000bps )\n",
      "396941 - 397510 (569 bps) yields 14 guides (24 guides per 1000bps )\n",
      "398656 - 399351 (695 bps) yields 14 guides (20 guides per 1000bps )\n",
      "423202 - 423846 (644 bps) yields 14 guides (21 guides per 1000bps )\n",
      "469142 - 470590 (1448 bps) yields 14 guides (9 guides per 1000bps )\n",
      "471033 - 471527 (494 bps) yields 14 guides (28 guides per 1000bps )\n",
      "489162 - 490462 (1300 bps) yields 14 guides (10 guides per 1000bps )\n",
      "510035 - 511446 (1411 bps) yields 14 guides (9 guides per 1000bps )\n",
      "22354 - 24227 (1873 bps) yields 13 guides (6 guides per 1000bps )\n",
      "29659 - 30645 (986 bps) yields 13 guides (13 guides per 1000bps )\n",
      "94229 - 94516 (287 bps) yields 13 guides (45 guides per 1000bps )\n",
      "132250 - 132608 (358 bps) yields 13 guides (36 guides per 1000bps )\n",
      "265808 - 267427 (1619 bps) yields 13 guides (8 guides per 1000bps )\n",
      "271978 - 272335 (357 bps) yields 13 guides (36 guides per 1000bps )\n",
      "341299 - 342127 (828 bps) yields 13 guides (15 guides per 1000bps )\n",
      "432198 - 432977 (779 bps) yields 13 guides (16 guides per 1000bps )\n",
      "445711 - 446023 (312 bps) yields 13 guides (41 guides per 1000bps )\n",
      "457250 - 457648 (398 bps) yields 13 guides (32 guides per 1000bps )\n",
      "26543 - 26998 (455 bps) yields 12 guides (26 guides per 1000bps )\n",
      "240880 - 241876 (996 bps) yields 12 guides (12 guides per 1000bps )\n",
      "298836 - 299554 (718 bps) yields 12 guides (16 guides per 1000bps )\n",
      "\n",
      "\n",
      "distribution of scores among all 18112 guides (score, nb of guides with that score)\n",
      "[(0, 2308), (1, 466), (2, 273), (3, 241), (4, 195), (5, 171), (6, 101), (7, 79), (8, 57), (9, 54), (10, 63), (11, 50), (12, 43), (13, 55), (14, 31), (15, 37), (16, 25), (17, 30), (18, 28), (19, 30), (20, 22), (21, 22), (22, 32), (23, 26), (24, 39), (25, 26), (26, 19), (27, 21), (28, 31), (29, 19), (30, 19), (31, 23), (32, 35), (33, 50), (34, 18), (35, 26), (36, 20), (37, 25), (38, 30), (39, 59), (40, 71), (41, 26), (42, 18), (43, 20), (44, 20), (45, 44), (46, 40), (47, 62), (48, 101), (49, 146), (50, 284), (51, 22), (52, 38), (53, 9), (54, 24), (55, 11), (56, 19), (57, 11), (58, 14), (59, 26), (60, 45), (61, 43), (62, 81), (63, 94), (64, 187), (65, 305), (66, 2201), (67, 7), (68, 5), (69, 6), (70, 6), (71, 2), (72, 7), (73, 3), (74, 2), (75, 5), (76, 3), (77, 3), (78, 8), (79, 1), (81, 2), (82, 4), (83, 3), (84, 5), (85, 15), (86, 5), (87, 6), (88, 7), (89, 12), (90, 21), (91, 10), (92, 3), (93, 22), (94, 18), (95, 32), (96, 21), (97, 67), (98, 50), (99, 114), (100, 8776)]\n"
     ]
    },
    {
     "data": {
      "image/png": "[encoded data removed]",
      "text/plain": [
       "<matplotlib.figure.Figure at 0x7f33c4762c90>"
      ]
     },
     "metadata": {},
     "output_type": "display_data"
    }
   ],
   "source": [
    "guides_hg38chr21_1000kbp, ampls_hg38chr21_1000kbp = prsp.score(datadirpath + \"scaffolds_hg38chr21_1000kbp/\", 'protospacers.stranded', \n",
    "                                      datadirpath + \"blastdb_hg38/\", 'hg38',\n",
    "                                      1000, 19 ,'chr21', low=10, high=100, load_genome=True, howmany=64)"
   ]
  },
  {
   "cell_type": "code",
   "execution_count": null,
   "metadata": {
    "collapsed": false
   },
   "outputs": [],
   "source": [
    "guides_xl, scores_xl = prsp.score(datadirpath + \"scaffolds_xenopuslaevis_Scaffold102974/\", 'protospacers.stranded', \n",
    "                                  datadirpath + \"blastdb_xenopuslaevis/\", 'xenopuslaevis',\n",
    "                                  1000, 19 ,'Scaffold102974', low=10, high=98, load_genome=True)"
   ]
  },
  {
   "cell_type": "markdown",
   "metadata": {},
   "source": [
    "---"
   ]
  },
  {
   "cell_type": "code",
   "execution_count": null,
   "metadata": {
    "collapsed": true
   },
   "outputs": [],
   "source": [
    "for guide in guides1k:\n",
    "    print guide.seq, guide.annotations, guide.name"
   ]
  },
  {
   "cell_type": "code",
   "execution_count": null,
   "metadata": {
    "collapsed": false
   },
   "outputs": [],
   "source": [
    "ampl40k = amplicons(pos_score(guides40k),67)\n",
    "ampl40k"
   ]
  },
  {
   "cell_type": "code",
   "execution_count": null,
   "metadata": {
    "collapsed": true
   },
   "outputs": [],
   "source": []
  }
 ],
 "metadata": {
  "kernelspec": {
   "display_name": "Python 2",
   "language": "python",
   "name": "python2"
  },
  "language_info": {
   "codemirror_mode": {
    "name": "ipython",
    "version": 2
   },
   "file_extension": ".py",
   "mimetype": "text/x-python",
   "name": "python",
   "nbconvert_exporter": "python",
   "pygments_lexer": "ipython2",
   "version": "2.7.11"
  }
 },
 "nbformat": 4,
 "nbformat_minor": 0
}
