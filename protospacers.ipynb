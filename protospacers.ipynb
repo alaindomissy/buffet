{
 "cells": [
  {
   "cell_type": "code",
   "execution_count": 2,
   "metadata": {},
   "outputs": [],
   "source": [
    "from protospacers import protospacers_bedfile_and_fastafile_from_directory as protos\n",
    "from protospacers import protospacers_focused\n",
    "from protospacers import digest_directory as cuts"
   ]
  },
  {
   "cell_type": "code",
   "execution_count": 3,
   "metadata": {},
   "outputs": [],
   "source": [
    "datadirpath = \"/home/user/r/crispreating/data/\""
   ]
  },
  {
   "cell_type": "markdown",
   "metadata": {},
   "source": [
    "## testing"
   ]
  },
  {
   "cell_type": "code",
   "execution_count": 3,
   "metadata": {},
   "outputs": [],
   "source": [
    "import protospacers as ps"
   ]
  },
  {
   "cell_type": "code",
   "execution_count": 6,
   "metadata": {},
   "outputs": [
    {
     "data": {
      "text/plain": [
       "SeqRecord(seq=Seq('GGAATAGAACCCAGAATATGCTAGATAATTATTGTGCCACAAAGCTATATCCCT...CCC', SingleLetterAlphabet()), id='gi|372099104:136640001-136641000', name='gi|372099104:136640001-136641000', description='gi|372099104:136640001-136641000 Mus musculus strain C57BL/6J chromosome 6, GRCm38.p3 C57BL/6J', dbxrefs=[])"
      ]
     },
     "execution_count": 6,
     "output_type": "execute_result",
     "metadata": {}
    }
   ],
   "source": [
    "seq1k = ps.create_seqrecords_from_directory(datadirpath + \"scaffolds_mm10_chr6_1kbp_boundary/\", 'fasta')[0]\n",
    "seq1k"
   ]
  },
  {
   "cell_type": "code",
   "execution_count": 7,
   "metadata": {},
   "outputs": [
    {
     "name": "stdout",
     "output_type": "stream",
     "text": [
      "GGAATAGAACCCAGAATATGCTAGATAATTATTGTGCCACAAAGCTATATCCCTAACCTTGGATCAAAAAAGAAGTTGTTTTATCATCCTGGTCATACAGACTCTGAAAGTCTCACCTTTATTTTCTCTTCTGAAGCCCTTTTCTGAGCTCCAAGATACAGCCCGTCGAGCTGGGTCACCACATAGCCGGTGTGTCTCCAGAATGGGTCATCCTTCTGCGCTTTGATGTTTTGCCTAGTCCACATTTCTTGCTTCCTGGGGGAGAAATCAGACTTTACCATAGATCCCCTGGTGCTAGAGTTATGGACGGTCATGAACCAGCATGTAGGTGCTGGAAACAGAACCCAGGTCATCTACAGGAGCAACAAGTGCTCTTAACTGCTGAGCCATCTCTCCAAGCTCCCAGAAAGATTTATTTTTTATAGTTCTTTCATTTTTACTTCTTTTAGTTCTCTGGGGTTTTTGTTTTGTTTGTTTTTATGAGATGATTTAATGATTTGACACAATTTTTCAATCAGAAAGCTATTTCTGGCTTGTTTAGGCTGTCTCTATCCTTAAGACAATCCAATGCACACCTCTGGGGATACAGCCCCATAGTTTCCCCTGATTCCTGAGAACCTCTAGCCATCCACCCATCCACAAGTGGGGTGTTTAATGCCTGATTCAGCAGAACACACAAGAACCCTTGGGTTCCCAGATGAGTCTGCTGTGCCATCAACTTAATTAGACTTATATTTAACTCTTCAGAAAACTGAACTAAAATAGAAGTACCCCAGGAAGCATTAAGAAGCCTGGCTTTAGAACTGTGTTTGTAGATAATTTTTGTACTATGGACACGGAGGCAAGAGGATCTTAGCTTGAATTTGAGGTCACTCTAGGCTACGTAGTAAGACTCTATGTCTCTCCACGTGCCAGGTGAAGGATTTAGATATTCTCCAACTTCGAGCTAGAGTTAGTTGCCAGGCTCTTGATACAGAAACACCTTATGGAAGGACACCCC\n"
     ]
    }
   ],
   "source": [
    "print(seq1k.seq)"
   ]
  },
  {
   "cell_type": "code",
   "execution_count": 8,
   "metadata": {},
   "outputs": [
    {
     "data": {
      "text/plain": [
       "['gi|372099104:136640001-136641000\\t1\\t21\\tBfaI\\t1000\\t+\\n',\n",
       " 'gi|372099104:136640001-136641000\\t23\\t43\\tBfaI\\t1000\\t-\\n',\n",
       " 'gi|372099104:136640001-136641000\\t215\\t235\\tBfaI\\t1000\\t+\\n',\n",
       " 'gi|372099104:136640001-136641000\\t237\\t257\\tBfaI\\t1000\\t-\\n',\n",
       " 'gi|372099104:136640001-136641000\\t275\\t295\\tBfaI\\t1000\\t+\\n',\n",
       " 'gi|372099104:136640001-136641000\\t297\\t317\\tBfaI\\t1000\\t-\\n',\n",
       " 'gi|372099104:136640001-136641000\\t601\\t621\\tBfaI\\t1000\\t+\\n',\n",
       " 'gi|372099104:136640001-136641000\\t623\\t643\\tBfaI\\t1000\\t-\\n',\n",
       " 'gi|372099104:136640001-136641000\\t855\\t875\\tBfaI\\t1000\\t+\\n',\n",
       " 'gi|372099104:136640001-136641000\\t877\\t897\\tBfaI\\t1000\\t-\\n',\n",
       " 'gi|372099104:136640001-136641000\\t927\\t947\\tBfaI\\t1000\\t+\\n',\n",
       " 'gi|372099104:136640001-136641000\\t949\\t969\\tBfaI\\t1000\\t-\\n',\n",
       " 'gi|372099104:136640001-136641000\\t167\\t187\\tHpaII\\t1000\\t+\\n',\n",
       " 'gi|372099104:136640001-136641000\\t189\\t209\\tHpaII\\t1000\\t-\\n',\n",
       " 'gi|372099104:136640001-136641000\\t69\\t89\\tScrFI\\t1000\\t+\\n',\n",
       " 'gi|372099104:136640001-136641000\\t90\\t110\\tScrFI\\t1000\\t-\\n',\n",
       " 'gi|372099104:136640001-136641000\\t236\\t256\\tScrFI\\t1000\\t+\\n',\n",
       " 'gi|372099104:136640001-136641000\\t257\\t277\\tScrFI\\t1000\\t-\\n',\n",
       " 'gi|372099104:136640001-136641000\\t269\\t289\\tScrFI\\t1000\\t+\\n',\n",
       " 'gi|372099104:136640001-136641000\\t290\\t310\\tScrFI\\t1000\\t-\\n',\n",
       " 'gi|372099104:136640001-136641000\\t326\\t346\\tScrFI\\t1000\\t+\\n',\n",
       " 'gi|372099104:136640001-136641000\\t347\\t367\\tScrFI\\t1000\\t-\\n',\n",
       " 'gi|372099104:136640001-136641000\\t754\\t774\\tScrFI\\t1000\\t+\\n',\n",
       " 'gi|372099104:136640001-136641000\\t775\\t795\\tScrFI\\t1000\\t-\\n',\n",
       " 'gi|372099104:136640001-136641000\\t772\\t792\\tScrFI\\t1000\\t+\\n',\n",
       " 'gi|372099104:136640001-136641000\\t793\\t813\\tScrFI\\t1000\\t-\\n',\n",
       " 'gi|372099104:136640001-136641000\\t893\\t913\\tScrFI\\t1000\\t+\\n',\n",
       " 'gi|372099104:136640001-136641000\\t914\\t934\\tScrFI\\t1000\\t-\\n',\n",
       " 'gi|372099104:136640001-136641000\\t941\\t961\\tScrFI\\t1000\\t+\\n',\n",
       " 'gi|372099104:136640001-136641000\\t962\\t982\\tScrFI\\t1000\\t-\\n']"
      ]
     },
     "execution_count": 8,
     "output_type": "execute_result",
     "metadata": {}
    }
   ],
   "source": [
    "ps.digest_seqrecord_to_cutbedlines(seq1k)"
   ]
  },
  {
   "cell_type": "code",
   "execution_count": 9,
   "metadata": {},
   "outputs": [
    {
     "data": {
      "text/plain": [
       "{BfaI: [22, 236, 296, 622, 876, 948],\n",
       " HpaII: [188],\n",
       " ScrFI: [90, 257, 290, 347, 775, 793, 914, 962]}"
      ]
     },
     "execution_count": 9,
     "output_type": "execute_result",
     "metadata": {}
    }
   ],
   "source": [
    "enzyme_names = ['BfaI', 'HpaII', 'ScrFI'] \n",
    "cut_dict = ps.create_analysis(seq1k.seq, enzyme_names).only_between(20, len(seq1k.seq)-20)\n",
    "cut_dict"
   ]
  },
  {
   "cell_type": "code",
   "execution_count": 10,
   "metadata": {},
   "outputs": [
    {
     "data": {
      "text/plain": [
       "(Seq('GGAATAGAACCCAGAATATGC', SingleLetterAlphabet()),\n",
       " Seq('TAGATAATTATTGTGCCACAAAGCTATATCCCTAACCTTGGATCAAAAAAGAAG...GCC', SingleLetterAlphabet()),\n",
       " Seq('TAGTCCACATTTCTTGCTTCCTGGGGGAGAAATCAGACTTTACCATAGATCCCCTGGTGC', SingleLetterAlphabet()),\n",
       " Seq('TAGAGTTATGGACGGTCATGAACCAGCATGTAGGTGCTGGAAACAGAACCCAGG...CTC', SingleLetterAlphabet()),\n",
       " Seq('TAGCCATCCACCCATCCACAAGTGGGGTGTTTAATGCCTGATTCAGCAGAACAC...CTC', SingleLetterAlphabet()),\n",
       " Seq('TAGGCTACGTAGTAAGACTCTATGTCTCTCCACGTGCCAGGTGAAGGATTTAGA...AGC', SingleLetterAlphabet()),\n",
       " Seq('TAGAGTTAGTTGCCAGGCTCTTGATACAGAAACACCTTATGGAAGGACACCCC', SingleLetterAlphabet()))"
      ]
     },
     "execution_count": 10,
     "output_type": "execute_result",
     "metadata": {}
    }
   ],
   "source": [
    "ps.create_enzyme('BfaI').catalyse(seq1k.seq)"
   ]
  },
  {
   "cell_type": "markdown",
   "metadata": {},
   "source": [
    "# protosspacers"
   ]
  },
  {
   "cell_type": "code",
   "execution_count": null,
   "metadata": {},
   "outputs": [],
   "source": [
    "%time cuts_yeast = cuts(datadirpath + \"scaffolds_yeast\", 'fasta')\n",
    "len(cuts_yeast), cuts_yeast"
   ]
  },
  {
   "cell_type": "code",
   "execution_count": null,
   "metadata": {},
   "outputs": [],
   "source": [
    "%time cuts_ecoliK12DH10b = cuts(datadirpath + \"scaffolds_ecoliK12DH10b\", 'fastq.gz')\n",
    "len(cuts_ecoliK12DH10b), cuts_ecoliK12DH10b"
   ]
  },
  {
   "cell_type": "code",
   "execution_count": null,
   "metadata": {},
   "outputs": [],
   "source": [
    "%time cuts_xenopuslaevis = cuts(datadirpath + \"scaffolds_xenopuslaevis\", 'fasta')\n",
    "len(cuts_xenopuslaevis), cuts_xenopuslaevis"
   ]
  },
  {
   "cell_type": "code",
   "execution_count": null,
   "metadata": {},
   "outputs": [],
   "source": [
    "%time  cuts_hg38chr21_1Mbp = cuts(datadirpath + \"scaffolds_hg38chr21_1Mbp\", \"fasta\")\n",
    "len(cuts_hg38chr21_1Mbp), cuts_hg38chr21_1Mbp"
   ]
  },
  {
   "cell_type": "code",
   "execution_count": null,
   "metadata": {},
   "outputs": [],
   "source": [
    ""
   ]
  },
  {
   "cell_type": "code",
   "execution_count": null,
   "metadata": {},
   "outputs": [],
   "source": [
    "%time protos(datadirpath + \"scaffolds_yeast/\", 'fasta')"
   ]
  },
  {
   "cell_type": "code",
   "execution_count": 7,
   "metadata": {},
   "outputs": [],
   "source": [
    "protos(datadirpath + \"scaffolds_hg18chr21_AP001625/\", 'fasta')"
   ]
  },
  {
   "cell_type": "code",
   "execution_count": 6,
   "metadata": {},
   "outputs": [],
   "source": [
    "protos(datadirpath + \"scaffolds_hg38chr21_1Mbp/\", 'fasta')"
   ]
  },
  {
   "cell_type": "code",
   "execution_count": null,
   "metadata": {},
   "outputs": [],
   "source": [
    "%time protos(datadirpath + \"scaffolds_ecoliK12DH10B/\", 'fasta')"
   ]
  },
  {
   "cell_type": "code",
   "execution_count": 5,
   "metadata": {},
   "outputs": [],
   "source": [
    "protos(datadirpath + \"scaffolds_xenopuslaevis_Scaffold102974/\", 'fasta')"
   ]
  },
  {
   "cell_type": "code",
   "execution_count": null,
   "metadata": {},
   "outputs": [],
   "source": [
    "%time protos(datadirpath + \"scaffolds_xenopuslaevisprotospacers.fasta\", 'fasta')"
   ]
  },
  {
   "cell_type": "code",
   "execution_count": null,
   "metadata": {},
   "outputs": [],
   "source": [
    "%time protos(datadirpath + \"scaffolds_hg18_whole/\", 'fasta')"
   ]
  },
  {
   "cell_type": "code",
   "execution_count": null,
   "metadata": {},
   "outputs": [],
   "source": [
    "%time protos(datadirpath + \"scaffolds_mm9_whole/\", 'fasta')"
   ]
  },
  {
   "cell_type": "code",
   "execution_count": null,
   "metadata": {},
   "outputs": [],
   "source": [
    "%time protos(datadirpath + \"scaffolds_mm10_whole/\", 'fasta')"
   ]
  },
  {
   "cell_type": "code",
   "execution_count": 11,
   "metadata": {},
   "outputs": [
    {
     "name": "stdout",
     "output_type": "stream",
     "text": [
      "CPU times: user 4 ms, sys: 12 ms, total: 16 ms\n",
      "Wall time: 25.5 ms\n"
     ]
    }
   ],
   "source": [
    "%time protos(datadirpath + \"scaffolds_mm10_chr6_1kbp_boundary/\", 'fasta')"
   ]
  },
  {
   "cell_type": "code",
   "execution_count": null,
   "metadata": {},
   "outputs": [],
   "source": [
    "protos(datadirpath + \"scaffolds_mm10_chr6_40kbp_boundary/\", 'fasta')"
   ]
  },
  {
   "cell_type": "code",
   "execution_count": 4,
   "metadata": {},
   "outputs": [
    {
     "name": "stderr",
     "output_type": "stream",
     "text": [
      "index file /home/user/r/crispreating/data/scaffolds_mm10_chr6_400kbp_boundary/cat.fasta.fai not found, generating...\n"
     ]
    }
   ],
   "source": [
    "protos(datadirpath + \"scaffolds_mm10_chr6_400kbp_boundary/\", 'fasta')"
   ]
  },
  {
   "cell_type": "code",
   "execution_count": 9,
   "metadata": {},
   "outputs": [
    {
     "name": "stderr",
     "output_type": "stream",
     "text": [
      "index file /home/user/r/crispreating/data/scaffolds_mm10_chr6_4000kbp_boundary/cat.fasta.fai not found, generating...\n"
     ]
    }
   ],
   "source": [
    "protos(datadirpath + \"scaffolds_mm10_chr6_4000kbp_boundary/\", 'fasta')"
   ]
  },
  {
   "cell_type": "code",
   "execution_count": null,
   "metadata": {},
   "outputs": [],
   "source": [
    "%time protos(datadirpath + \"scaffolds_ce10/\", 'fasta')"
   ]
  },
  {
   "cell_type": "code",
   "execution_count": null,
   "metadata": {},
   "outputs": [],
   "source": [
    "%time protos(datadirpath + \"scaffolds_dm6/protospacers.fasta\", 'fasta')"
   ]
  },
  {
   "cell_type": "code",
   "execution_count": null,
   "metadata": {},
   "outputs": [],
   "source": [
    "%time protos(datadirpath + \"scaffolds_ecoli2/protospacers.fasta\", 'fasta')"
   ]
  },
  {
   "cell_type": "markdown",
   "metadata": {},
   "source": [
    "## TODO: try input chr coord to get fasta from genome using bedtools\n"
   ]
  },
  {
   "cell_type": "code",
   "execution_count": null,
   "metadata": {},
   "outputs": [],
   "source": [
    "import pybedtools"
   ]
  },
  {
   "cell_type": "code",
   "execution_count": null,
   "metadata": {},
   "outputs": [],
   "source": [
    "focus_input = [('chr1', 0, 500), ('chr2', 0, 1000),('chr3', 0, 1000000)]"
   ]
  },
  {
   "cell_type": "code",
   "execution_count": null,
   "metadata": {},
   "outputs": [],
   "source": [
    "protospacers_focused(focus_input, datadirpath + \"scaffolds_hg18_whole/\", 'fasta')"
   ]
  },
  {
   "cell_type": "code",
   "execution_count": null,
   "metadata": {},
   "outputs": [],
   "source": [
    ""
   ]
  },
  {
   "cell_type": "code",
   "execution_count": null,
   "metadata": {},
   "outputs": [],
   "source": [
    "focus_bedtool = pybedtools.BedTool(focus_input)"
   ]
  },
  {
   "cell_type": "code",
   "execution_count": null,
   "metadata": {},
   "outputs": [],
   "source": [
    "focus_protos = pybedtools.BedTool(datadirpath + \"scaffolds_hg18_whole/protospacers.bed\")"
   ]
  },
  {
   "cell_type": "code",
   "execution_count": null,
   "metadata": {},
   "outputs": [],
   "source": [
    "focus_protos.intersect(focus_bedtool).moveto(datadirpath + \"scaffolds_hg18_whole/focus.bed\")"
   ]
  },
  {
   "cell_type": "code",
   "execution_count": null,
   "metadata": {},
   "outputs": [],
   "source": [
    "focus_protos.fn\n",
    "!head '/tmp/pybedtools.y7tcIf.tmp'\n",
    "pybedtools.helpers.cleanup(verbose=True)"
   ]
  },
  {
   "cell_type": "code",
   "execution_count": null,
   "metadata": {},
   "outputs": [],
   "source": [
    "focus_bedtool.fn"
   ]
  },
  {
   "cell_type": "code",
   "execution_count": null,
   "metadata": {},
   "outputs": [],
   "source": [
    "cat '/tmp/pybedtools.w65LbX.tmp'"
   ]
  },
  {
   "cell_type": "code",
   "execution_count": null,
   "metadata": {},
   "outputs": [],
   "source": [
    ""
   ]
  }
 ],
 "metadata": {
  "kernelspec": {
   "display_name": "Python 2",
   "language": "python",
   "name": "python2"
  },
  "language_info": {
   "codemirror_mode": {
    "name": "ipython",
    "version": 2.0
   },
   "file_extension": ".py",
   "mimetype": "text/x-python",
   "name": "python",
   "nbconvert_exporter": "python",
   "pygments_lexer": "ipython2",
   "version": "2.7.11"
  }
 },
 "nbformat": 4,
 "nbformat_minor": 0
}