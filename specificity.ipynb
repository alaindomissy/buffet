{
 "cells": [
  {
   "cell_type": "markdown",
   "metadata": {},
   "source": [
    "# rev engnr"
   ]
  },
  {
   "cell_type": "code",
   "execution_count": null,
   "metadata": {
    "collapsed": true
   },
   "outputs": [],
   "source": [
    "import cPickle as pickle"
   ]
  },
  {
   "cell_type": "code",
   "execution_count": null,
   "metadata": {
    "collapsed": true
   },
   "outputs": [],
   "source": [
    "datadirpath = \"/home/user/r/crispreating/data/\"\n",
    "\n",
    "scaffolds_directory = datadirpath + \"scaffolds_hg18chr21_AP001625/\"\n",
    "blastdb_directory = datadirpath + \"blastdb_hg18/\"\n",
    "blastdb_db = 'hg18'"
   ]
  },
  {
   "cell_type": "code",
   "execution_count": null,
   "metadata": {
    "collapsed": true
   },
   "outputs": [],
   "source": [
    "with open(scaffolds_directory + '/cuts.pkl', 'rb') as pkl_handle:\n",
    "    cuts = pickle.load(pkl_handle)\n",
    "len(cuts), cuts"
   ]
  },
  {
   "cell_type": "code",
   "execution_count": null,
   "metadata": {
    "collapsed": true
   },
   "outputs": [],
   "source": [
    "seqio.write(cuts, scaffolds_directory + \"cuts_preblast.fasta\", \"fasta\")"
   ]
  },
  {
   "cell_type": "code",
   "execution_count": null,
   "metadata": {
    "collapsed": true
   },
   "outputs": [],
   "source": []
  },
  {
   "cell_type": "code",
   "execution_count": null,
   "metadata": {
    "collapsed": true
   },
   "outputs": [],
   "source": [
    "from Bio import SeqIO as seqio\n",
    "from Bio.Blast import NCBIXML\n",
    "from Bio.Blast.Applications import NcbiblastnCommandline"
   ]
  },
  {
   "cell_type": "code",
   "execution_count": null,
   "metadata": {
    "collapsed": true
   },
   "outputs": [],
   "source": [
    "protospacers_seqrecords = list(seqio.parse(scaffolds_directory + \"protospacers.fasta\", \"fasta\"))"
   ]
  },
  {
   "cell_type": "code",
   "execution_count": null,
   "metadata": {
    "collapsed": true
   },
   "outputs": [],
   "source": [
    "len(list(protospacers_seqrecords)) , list(protospacers_seqrecords)"
   ]
  },
  {
   "cell_type": "code",
   "execution_count": null,
   "metadata": {
    "collapsed": true
   },
   "outputs": [],
   "source": [
    "seqio.write(protospacers_seqrecords, scaffolds_directory + \"protospacers_preblast.fasta\", \"fasta\")"
   ]
  },
  {
   "cell_type": "code",
   "execution_count": null,
   "metadata": {
    "collapsed": true
   },
   "outputs": [],
   "source": []
  },
  {
   "cell_type": "code",
   "execution_count": null,
   "metadata": {
    "collapsed": true
   },
   "outputs": [],
   "source": [
    "scaffolds_directory = datadirpath + \"scaffolds_yeast/\"\n",
    "blastdb_directory = datadirpath + \"blastdb_yeast/\"\n",
    "blastdb_db = 'yeast'"
   ]
  },
  {
   "cell_type": "code",
   "execution_count": null,
   "metadata": {
    "collapsed": true
   },
   "outputs": [],
   "source": [
    "# guides_hg18chr21_AP001625 = base.score_guides(cuts_hg18chr21_AP001625,\n",
    "#                                        'blastdb_hg18/hg18',\n",
    "#                                        genomedict_hg18,\n",
    "# #                                        hits=25, \n",
    "# #                                        max_hsps=100, \n",
    "#                                        return_blast=0, \n",
    "#                                        sqlitedb=\"sqlite_hg18chr21_AP001625\",\n",
    "#                                        pam_blast_lookup=1\n",
    "#                                       )\n",
    "# Bio.SeqIO.write(guides, filename, \"fasta\")"
   ]
  },
  {
   "cell_type": "code",
   "execution_count": null,
   "metadata": {
    "collapsed": true
   },
   "outputs": [],
   "source": [
    "blastn_cline = NcbiblastnCommandline(query=scaffolds_directory + \"protospacers.fasta\",\n",
    "                                     out=scaffolds_directory + \"protospacers.blast\",\n",
    "                                     outfmt=5,\n",
    "                                     db=blastdb_directory + blastdb_db,\n",
    "                                     max_target_seqs=25,\n",
    "                                     num_threads=7,\n",
    "                                     evalue=10,\n",
    "                                     max_hsps=100,\n",
    "                                     task=\"blastn-short\",\n",
    "                                     dust=\"no\",\n",
    "#                                    ,strand=\"plus\"\n",
    "                                    )\n",
    "print(blastn_cline)"
   ]
  },
  {
   "cell_type": "code",
   "execution_count": null,
   "metadata": {
    "collapsed": true
   },
   "outputs": [],
   "source": [
    "# timeit.timeit(blastn_cline, number =1)\n",
    "# blastn_cline()"
   ]
  },
  {
   "cell_type": "code",
   "execution_count": null,
   "metadata": {
    "collapsed": false
   },
   "outputs": [],
   "source": [
    " !wc -l /home/user/r/crispreating/data/scaffolds_mm10_chr6_4000kbp_boundary/protospacers.stranded.fasta"
   ]
  },
  {
   "cell_type": "code",
   "execution_count": null,
   "metadata": {
    "collapsed": false
   },
   "outputs": [],
   "source": [
    "%%bash\n",
    "cd /home/user/r/crispreating/data/scaffolds_mm10_chr6_4000kbp_boundary/\n",
    "head -n  40000 protospacers.stranded.fasta | tail -40000 > protospacers.stranded.0.fasta\n",
    "head -n  80000 protospacers.stranded.fasta | tail -40000 > protospacers.stranded.1.fasta\n",
    "head -n 120000 protospacers.stranded.fasta | tail -31844 > protospacers.stranded.2.fasta\n",
    "cd -"
   ]
  },
  {
   "cell_type": "code",
   "execution_count": null,
   "metadata": {
    "collapsed": false
   },
   "outputs": [],
   "source": [
    " !wc -l /home/user/r/crispreating/data/scaffolds_mm10_chr6_4000kbp_boundary/protospacers.stranded.*"
   ]
  },
  {
   "cell_type": "code",
   "execution_count": null,
   "metadata": {
    "collapsed": true
   },
   "outputs": [],
   "source": []
  },
  {
   "cell_type": "code",
   "execution_count": null,
   "metadata": {
    "collapsed": false
   },
   "outputs": [],
   "source": [
    "%%bash\n",
    "cd /home/user/r/crispreating/data/scaffolds_mm10_chr6_4000kbp_boundary/\n",
    "head -n  2000 protospacers.stranded.0.fasta | tail -2000 > protospacers.stranded.00.fasta\n",
    "head -n  4000 protospacers.stranded.0.fasta | tail -2000 > protospacers.stranded.01.fasta\n",
    "head -n  6000 protospacers.stranded.0.fasta | tail -2000 > protospacers.stranded.02.fasta\n",
    "head -n  8000 protospacers.stranded.0.fasta | tail -2000 > protospacers.stranded.03.fasta\n",
    "head -n 10000 protospacers.stranded.0.fasta | tail -2000 > protospacers.stranded.04.fasta\n",
    "cd -"
   ]
  },
  {
   "cell_type": "code",
   "execution_count": null,
   "metadata": {
    "collapsed": false
   },
   "outputs": [],
   "source": [
    " !wc -l /home/user/r/crispreating/data/scaffolds_hg38chr21_1Mbp/protospacers.stranded.0*"
   ]
  },
  {
   "cell_type": "code",
   "execution_count": null,
   "metadata": {
    "collapsed": true
   },
   "outputs": [],
   "source": []
  },
  {
   "cell_type": "markdown",
   "metadata": {},
   "source": [
    "# prsp.blnsc"
   ]
  },
  {
   "cell_type": "code",
   "execution_count": 2,
   "metadata": {
    "collapsed": false
   },
   "outputs": [],
   "source": [
    "import protospacers as prsp\n",
    "reload(prsp)\n",
    "datadirpath = \"/home/user/r/crispreating/data/\""
   ]
  },
  {
   "cell_type": "code",
   "execution_count": 9,
   "metadata": {
    "collapsed": false
   },
   "outputs": [
    {
     "name": "stdout",
     "output_type": "stream",
     "text": [
      "blasting chunk  protospacers.stranded1x10 done\n",
      "blasting chunk  protospacers.stranded2x10 done\n",
      "blasting chunk  protospacers.stranded3x10 done\n",
      "all done with 3 chunks\n",
      "reading genome done\n",
      "parsing /home/user/r/crispreating/data/scaffolds_mm10_chr6_1kbp_boundary/protospacers.stranded1x10.blast\n",
      " done\n",
      "parsing /home/user/r/crispreating/data/scaffolds_mm10_chr6_1kbp_boundary/protospacers.stranded2x10.blast\n",
      " done\n",
      "parsing /home/user/r/crispreating/data/scaffolds_mm10_chr6_1kbp_boundary/protospacers.stranded3x10.blast\n",
      " done\n",
      "\n",
      "4 amplicons totaling 175 bps yielding a total of 7 guides\n",
      "with average amplicon of 43.0 bps yielding 1.0 guides\n",
      "\n",
      "top 2 amplicons totaling 96 bps yielding a total of 5 guides\n",
      "with average amplicon of 48.0 bps yielding 2.0 guides\n",
      "\n",
      "927 - 982 (55 bps) yields 3 guides (54 guides per 1000bps )\n",
      "269 - 310 (41 bps) yields 2 guides (48 guides per 1000bps )\n",
      "\n",
      "754 - 792 (38 bps) yields 1 guides (26 guides per 1000bps )\n",
      "893 - 934 (41 bps) yields 1 guides (24 guides per 1000bps )\n",
      "\n",
      "\n",
      "distribution of scores among all 30 guides (score, nb of guides with that score)\n",
      "[(2, 1), (13, 1), (15, 1), (16, 1), (30, 1), (36, 1), (39, 1), (44, 1), (47, 2), (53, 1), (55, 1), (59, 2), (60, 2), (61, 1), (62, 2), (63, 2), (64, 2), (65, 1), (66, 6)]\n"
     ]
    },
    {
     "data": {
      "image/png": "[encoded data removed]",
      "text/plain": [
       "<matplotlib.figure.Figure at 0x7f2f099ad090>"
      ]
     },
     "metadata": {},
     "output_type": "display_data"
    }
   ],
   "source": [
    "prsp.blnsc(datadirpath + \"scaffolds_mm10_chr6_1kbp_boundary/\", 'protospacers.stranded', \n",
    "           datadirpath + \"blastdb_mm10/\", 'mm10', chunksize=10, max_hsps=500,\n",
    "           reref_substrate_id='chr6', low=30, high=65, load_genome=True, howmany=2)"
   ]
  },
  {
   "cell_type": "code",
   "execution_count": 10,
   "metadata": {
    "collapsed": false
   },
   "outputs": [
    {
     "name": "stdout",
     "output_type": "stream",
     "text": [
      "blasting chunk  protospacers.stranded1x500 done\n",
      "blasting chunk  protospacers.stranded2x500 done\n",
      "all done with 2 chunks\n",
      "reading genome done\n",
      "parsing /home/user/r/crispreating/data/scaffolds_mm10_chr6_40kbp_boundary/protospacers.stranded1x500.blast\n",
      " done\n",
      "parsing /home/user/r/crispreating/data/scaffolds_mm10_chr6_40kbp_boundary/protospacers.stranded2x500.blast\n",
      " done\n",
      "\n",
      "50 amplicons totaling 36259 bps yielding a total of 644 guides\n",
      "with average amplicon of 725.0 bps yielding 12.0 guides\n",
      "\n",
      "top 15 amplicons totaling 27937 bps yielding a total of 508 guides\n",
      "with average amplicon of 1862.0 bps yielding 33.0 guides\n",
      "\n",
      "19694 - 24113 (4419 bps) yields 98 guides (22 guides per 1000bps )\n",
      "10796 - 15583 (4787 bps) yields 86 guides (17 guides per 1000bps )\n",
      "5117 - 7896 (2779 bps) yields 47 guides (16 guides per 1000bps )\n",
      "27240 - 29565 (2325 bps) yields 47 guides (20 guides per 1000bps )\n",
      "8245 - 10481 (2236 bps) yields 39 guides (17 guides per 1000bps )\n",
      "16754 - 19682 (2928 bps) yields 38 guides (12 guides per 1000bps )\n",
      "25007 - 25582 (575 bps) yields 23 guides (40 guides per 1000bps )\n",
      "24130 - 24743 (613 bps) yields 18 guides (29 guides per 1000bps )\n",
      "32279 - 33165 (886 bps) yields 18 guides (20 guides per 1000bps )\n",
      "347 - 1670 (1323 bps) yields 17 guides (12 guides per 1000bps )\n",
      "25798 - 26556 (758 bps) yields 17 guides (22 guides per 1000bps )\n",
      "36657 - 38295 (1638 bps) yields 17 guides (10 guides per 1000bps )\n",
      "3296 - 5111 (1815 bps) yields 15 guides (8 guides per 1000bps )\n",
      "0 - 345 (345 bps) yields 14 guides (40 guides per 1000bps )\n",
      "16213 - 16723 (510 bps) yields 14 guides (27 guides per 1000bps )\n",
      "\n",
      "30530 - 32222 (1692 bps) yields 12 guides (7 guides per 1000bps )\n",
      "35327 - 35983 (656 bps) yields 12 guides (18 guides per 1000bps )\n",
      "1672 - 3294 (1622 bps) yields 11 guides (6 guides per 1000bps )\n",
      "29553 - 30158 (605 bps) yields 9 guides (14 guides per 1000bps )\n",
      "26897 - 27155 (258 bps) yields 8 guides (31 guides per 1000bps )\n",
      "34337 - 34563 (226 bps) yields 7 guides (30 guides per 1000bps )\n",
      "33705 - 34065 (360 bps) yields 6 guides (16 guides per 1000bps )\n",
      "34915 - 35338 (423 bps) yields 6 guides (14 guides per 1000bps )\n",
      "38888 - 39192 (304 bps) yields 6 guides (19 guides per 1000bps )\n",
      "10579 - 10786 (207 bps) yields 5 guides (24 guides per 1000bps )\n",
      "32225 - 32286 (61 bps) yields 4 guides (65 guides per 1000bps )\n",
      "33150 - 33279 (129 bps) yields 4 guides (31 guides per 1000bps )\n",
      "34800 - 34843 (43 bps) yields 4 guides (93 guides per 1000bps )\n",
      "36509 - 36654 (145 bps) yields 4 guides (27 guides per 1000bps )\n",
      "7898 - 8245 (347 bps) yields 3 guides (8 guides per 1000bps )\n",
      "\n",
      "\n",
      "distribution of scores among all 742 guides (score, nb of guides with that score)\n",
      "[(0, 6), (1, 15), (2, 4), (3, 4), (4, 3), (5, 2), (6, 3), (7, 2), (8, 4), (10, 1), (11, 1), (12, 1), (14, 1), (15, 2), (18, 1), (20, 2), (22, 2), (25, 5), (28, 5), (33, 3), (36, 1), (40, 11), (46, 1), (50, 11), (51, 1), (60, 1), (63, 1), (65, 2), (66, 24), (100, 622)]\n"
     ]
    },
    {
     "data": {
      "image/png": "[encoded data removed]",
      "text/plain": [
       "<matplotlib.figure.Figure at 0x7f2f09c69b90>"
      ]
     },
     "metadata": {},
     "output_type": "display_data"
    }
   ],
   "source": [
    "prsp.blnsc(datadirpath + \"scaffolds_mm10_chr6_40kbp_boundary/\", 'protospacers.stranded', \n",
    "           datadirpath + \"blastdb_mm10/\", 'mm10', chunksize=500, max_hsps=500,\n",
    "           reref_substrate_id='chr6', low=30, high=65, load_genome=True, howmany=15)"
   ]
  },
  {
   "cell_type": "code",
   "execution_count": 11,
   "metadata": {
    "collapsed": false
   },
   "outputs": [
    {
     "name": "stdout",
     "output_type": "stream",
     "text": [
      "blasting chunk  protospacers.stranded1x1000 done\n",
      "blasting chunk  protospacers.stranded2x1000 done\n",
      "blasting chunk  protospacers.stranded3x1000 done\n",
      "all done with 3 chunks\n",
      "reading genome done\n",
      "parsing /home/user/r/crispreating/data/scaffolds_mm10_chr6_400kbp_boundary/protospacers.stranded1x1000.blast\n",
      " done\n",
      "parsing /home/user/r/crispreating/data/scaffolds_mm10_chr6_400kbp_boundary/protospacers.stranded2x1000.blast\n",
      " done\n",
      "parsing /home/user/r/crispreating/data/scaffolds_mm10_chr6_400kbp_boundary/protospacers.stranded3x1000.blast\n",
      " done\n",
      "\n",
      "356 amplicons totaling 173227 bps yielding a total of 2350 guides\n",
      "with average amplicon of 486.0 bps yielding 6.0 guides\n",
      "\n",
      "top 24 amplicons totaling 44745 bps yielding a total of 653 guides\n",
      "with average amplicon of 1864.0 bps yielding 27.0 guides\n",
      "\n",
      "139108 - 141964 (2856 bps) yields 41 guides (14 guides per 1000bps )\n",
      "152744 - 153743 (999 bps) yields 40 guides (40 guides per 1000bps )\n",
      "9759 - 14606 (4847 bps) yields 38 guides (7 guides per 1000bps )\n",
      "150941 - 152304 (1363 bps) yields 37 guides (27 guides per 1000bps )\n",
      "144454 - 147105 (2651 bps) yields 33 guides (12 guides per 1000bps )\n",
      "172054 - 174499 (2445 bps) yields 33 guides (13 guides per 1000bps )\n",
      "3925 - 5159 (1234 bps) yields 31 guides (25 guides per 1000bps )\n",
      "29445 - 32846 (3401 bps) yields 29 guides (8 guides per 1000bps )\n",
      "14607 - 16781 (2174 bps) yields 27 guides (12 guides per 1000bps )\n",
      "18524 - 21520 (2996 bps) yields 27 guides (9 guides per 1000bps )\n",
      "68551 - 70504 (1953 bps) yields 27 guides (13 guides per 1000bps )\n",
      "182831 - 183767 (936 bps) yields 26 guides (27 guides per 1000bps )\n",
      "152306 - 152698 (392 bps) yields 25 guides (63 guides per 1000bps )\n",
      "134408 - 136539 (2131 bps) yields 24 guides (11 guides per 1000bps )\n",
      "42019 - 43819 (1800 bps) yields 23 guides (12 guides per 1000bps )\n",
      "66219 - 66955 (736 bps) yields 23 guides (31 guides per 1000bps )\n",
      "116419 - 117264 (845 bps) yields 23 guides (27 guides per 1000bps )\n",
      "119074 - 120847 (1773 bps) yields 23 guides (12 guides per 1000bps )\n",
      "17012 - 18536 (1524 bps) yields 22 guides (14 guides per 1000bps )\n",
      "154611 - 156447 (1836 bps) yields 21 guides (11 guides per 1000bps )\n",
      "19 - 1795 (1776 bps) yields 20 guides (11 guides per 1000bps )\n",
      "2655 - 3924 (1269 bps) yields 20 guides (15 guides per 1000bps )\n",
      "6533 - 7665 (1132 bps) yields 20 guides (17 guides per 1000bps )\n",
      "37210 - 38886 (1676 bps) yields 20 guides (11 guides per 1000bps )\n",
      "\n",
      "87866 - 89497 (1631 bps) yields 20 guides (12 guides per 1000bps )\n",
      "182398 - 182759 (361 bps) yields 20 guides (55 guides per 1000bps )\n",
      "143112 - 144214 (1102 bps) yields 19 guides (17 guides per 1000bps )\n",
      "194613 - 195518 (905 bps) yields 19 guides (20 guides per 1000bps )\n",
      "7667 - 8797 (1130 bps) yields 18 guides (15 guides per 1000bps )\n",
      "77236 - 78252 (1016 bps) yields 18 guides (17 guides per 1000bps )\n",
      "78429 - 78918 (489 bps) yields 18 guides (36 guides per 1000bps )\n",
      "86401 - 87703 (1302 bps) yields 18 guides (13 guides per 1000bps )\n",
      "95782 - 96859 (1077 bps) yields 18 guides (16 guides per 1000bps )\n",
      "121300 - 122585 (1285 bps) yields 18 guides (14 guides per 1000bps )\n",
      "160347 - 161393 (1046 bps) yields 18 guides (17 guides per 1000bps )\n",
      "97281 - 98422 (1141 bps) yields 17 guides (14 guides per 1000bps )\n",
      "112185 - 113074 (889 bps) yields 17 guides (19 guides per 1000bps )\n",
      "162279 - 164280 (2001 bps) yields 17 guides (8 guides per 1000bps )\n",
      "167019 - 167735 (716 bps) yields 17 guides (23 guides per 1000bps )\n",
      "181151 - 181948 (797 bps) yields 17 guides (21 guides per 1000bps )\n",
      "45243 - 47333 (2090 bps) yields 16 guides (7 guides per 1000bps )\n",
      "78984 - 80415 (1431 bps) yields 16 guides (11 guides per 1000bps )\n",
      "9130 - 9610 (480 bps) yields 15 guides (31 guides per 1000bps )\n",
      "28377 - 29444 (1067 bps) yields 15 guides (14 guides per 1000bps )\n",
      "32894 - 35711 (2817 bps) yields 15 guides (5 guides per 1000bps )\n",
      "35713 - 37084 (1371 bps) yields 15 guides (10 guides per 1000bps )\n",
      "109621 - 110304 (683 bps) yields 15 guides (21 guides per 1000bps )\n",
      "21632 - 23769 (2137 bps) yields 14 guides (6 guides per 1000bps )\n",
      "\n",
      "\n",
      "distribution of scores among all 2894 guides (score, nb of guides with that score)\n",
      "[(0, 19), (1, 21), (2, 13), (3, 10), (4, 11), (5, 11), (6, 9), (7, 4), (8, 5), (9, 4), (10, 6), (11, 6), (12, 6), (13, 2), (14, 9), (15, 4), (16, 5), (17, 3), (18, 3), (19, 4), (20, 5), (21, 2), (22, 8), (23, 1), (24, 1), (25, 8), (26, 2), (28, 10), (29, 4), (30, 3), (31, 1), (32, 1), (33, 11), (34, 2), (37, 3), (38, 1), (39, 4), (40, 12), (41, 5), (42, 1), (44, 3), (45, 2), (46, 7), (47, 2), (48, 8), (49, 16), (50, 51), (51, 1), (52, 8), (54, 6), (56, 2), (57, 1), (58, 1), (60, 1), (61, 1), (62, 2), (63, 3), (64, 3), (65, 5), (66, 69), (67, 1), (68, 1), (69, 7), (70, 38), (71, 2), (72, 2), (73, 1), (74, 1), (75, 1), (76, 1), (77, 1), (78, 4), (79, 3), (81, 1), (82, 2), (83, 1), (84, 2), (85, 3), (86, 9), (87, 5), (88, 15), (89, 2), (90, 30), (91, 8), (92, 9), (93, 15), (94, 14), (95, 26), (96, 11), (97, 51), (98, 30), (99, 102), (100, 2063)]\n"
     ]
    },
    {
     "data": {
      "image/png": "[encoded data removed]",
      "text/plain": [
       "<matplotlib.figure.Figure at 0x7f2f02829a90>"
      ]
     },
     "metadata": {},
     "output_type": "display_data"
    }
   ],
   "source": [
    "prsp.blnsc(datadirpath + \"scaffolds_mm10_chr6_400kbp_boundary/\", 'protospacers.stranded', \n",
    "           datadirpath + \"blastdb_mm10/\", 'mm10', chunksize=1000, max_hsps=500,\n",
    "           reref_substrate_id='chr6', low=10, high=90, load_genome=True, howmany=24)"
   ]
  },
  {
   "cell_type": "code",
   "execution_count": null,
   "metadata": {
    "collapsed": true
   },
   "outputs": [
    {
     "name": "stdout",
     "output_type": "stream",
     "text": [
      "blasting chunk  protospacers.stranded1x1000 done\n",
      "blasting chunk  protospacers.stranded2x1000 done\n",
      "blasting chunk  protospacers.stranded3x1000 done\n",
      "all done with 3 chunks\n",
      "reading genome done\n",
      "parsing /home/user/r/crispreating/data/scaffolds_mm10_chr6_400kbp_boundary/protospacers.stranded1x1000.blast\n",
      " done\n",
      "parsing /home/user/r/crispreating/data/scaffolds_mm10_chr6_400kbp_boundary/protospacers.stranded2x1000.blast\n",
      " done\n",
      "parsing /home/user/r/crispreating/data/scaffolds_mm10_chr6_400kbp_boundary/protospacers.stranded3x1000.blast\n",
      " done\n",
      "\n",
      "356 amplicons totaling 173227 bps yielding a total of 2350 guides\n",
      "with average amplicon of 486.0 bps yielding 6.0 guides\n",
      "\n",
      "top 24 amplicons totaling 44745 bps yielding a total of 653 guides\n",
      "with average amplicon of 1864.0 bps yielding 27.0 guides\n",
      "\n",
      "139108 - 141964 (2856 bps) yields 41 guides (14 guides per 1000bps )\n",
      "152744 - 153743 (999 bps) yields 40 guides (40 guides per 1000bps )\n",
      "9759 - 14606 (4847 bps) yields 38 guides (7 guides per 1000bps )\n",
      "150941 - 152304 (1363 bps) yields 37 guides (27 guides per 1000bps )\n",
      "144454 - 147105 (2651 bps) yields 33 guides (12 guides per 1000bps )\n",
      "172054 - 174499 (2445 bps) yields 33 guides (13 guides per 1000bps )\n",
      "3925 - 5159 (1234 bps) yields 31 guides (25 guides per 1000bps )\n",
      "29445 - 32846 (3401 bps) yields 29 guides (8 guides per 1000bps )\n",
      "14607 - 16781 (2174 bps) yields 27 guides (12 guides per 1000bps )\n",
      "18524 - 21520 (2996 bps) yields 27 guides (9 guides per 1000bps )\n",
      "68551 - 70504 (1953 bps) yields 27 guides (13 guides per 1000bps )\n",
      "182831 - 183767 (936 bps) yields 26 guides (27 guides per 1000bps )\n",
      "152306 - 152698 (392 bps) yields 25 guides (63 guides per 1000bps )\n",
      "134408 - 136539 (2131 bps) yields 24 guides (11 guides per 1000bps )\n",
      "42019 - 43819 (1800 bps) yields 23 guides (12 guides per 1000bps )\n",
      "66219 - 66955 (736 bps) yields 23 guides (31 guides per 1000bps )\n",
      "116419 - 117264 (845 bps) yields 23 guides (27 guides per 1000bps )\n",
      "119074 - 120847 (1773 bps) yields 23 guides (12 guides per 1000bps )\n",
      "17012 - 18536 (1524 bps) yields 22 guides (14 guides per 1000bps )\n",
      "154611 - 156447 (1836 bps) yields 21 guides (11 guides per 1000bps )\n",
      "19 - 1795 (1776 bps) yields 20 guides (11 guides per 1000bps )\n",
      "2655 - 3924 (1269 bps) yields 20 guides (15 guides per 1000bps )\n",
      "6533 - 7665 (1132 bps) yields 20 guides (17 guides per 1000bps )\n",
      "37210 - 38886 (1676 bps) yields 20 guides (11 guides per 1000bps )\n",
      "\n",
      "87866 - 89497 (1631 bps) yields 20 guides (12 guides per 1000bps )\n",
      "182398 - 182759 (361 bps) yields 20 guides (55 guides per 1000bps )\n",
      "143112 - 144214 (1102 bps) yields 19 guides (17 guides per 1000bps )\n",
      "194613 - 195518 (905 bps) yields 19 guides (20 guides per 1000bps )\n",
      "7667 - 8797 (1130 bps) yields 18 guides (15 guides per 1000bps )\n",
      "77236 - 78252 (1016 bps) yields 18 guides (17 guides per 1000bps )\n",
      "78429 - 78918 (489 bps) yields 18 guides (36 guides per 1000bps )\n",
      "86401 - 87703 (1302 bps) yields 18 guides (13 guides per 1000bps )\n",
      "95782 - 96859 (1077 bps) yields 18 guides (16 guides per 1000bps )\n",
      "121300 - 122585 (1285 bps) yields 18 guides (14 guides per 1000bps )\n",
      "160347 - 161393 (1046 bps) yields 18 guides (17 guides per 1000bps )\n",
      "97281 - 98422 (1141 bps) yields 17 guides (14 guides per 1000bps )\n",
      "112185 - 113074 (889 bps) yields 17 guides (19 guides per 1000bps )\n",
      "162279 - 164280 (2001 bps) yields 17 guides (8 guides per 1000bps )\n",
      "167019 - 167735 (716 bps) yields 17 guides (23 guides per 1000bps )\n",
      "181151 - 181948 (797 bps) yields 17 guides (21 guides per 1000bps )\n",
      "45243 - 47333 (2090 bps) yields 16 guides (7 guides per 1000bps )\n",
      "78984 - 80415 (1431 bps) yields 16 guides (11 guides per 1000bps )\n",
      "9130 - 9610 (480 bps) yields 15 guides (31 guides per 1000bps )\n",
      "28377 - 29444 (1067 bps) yields 15 guides (14 guides per 1000bps )\n",
      "32894 - 35711 (2817 bps) yields 15 guides (5 guides per 1000bps )\n",
      "35713 - 37084 (1371 bps) yields 15 guides (10 guides per 1000bps )\n",
      "109621 - 110304 (683 bps) yields 15 guides (21 guides per 1000bps )\n",
      "21632 - 23769 (2137 bps) yields 14 guides (6 guides per 1000bps )\n",
      "\n",
      "\n",
      "distribution of scores among all 2894 guides (score, nb of guides with that score)\n",
      "[(0, 19), (1, 21), (2, 13), (3, 10), (4, 11), (5, 11), (6, 9), (7, 4), (8, 5), (9, 4), (10, 6), (11, 6), (12, 6), (13, 2), (14, 9), (15, 4), (16, 5), (17, 3), (18, 3), (19, 4), (20, 5), (21, 2), (22, 8), (23, 1), (24, 1), (25, 8), (26, 2), (28, 10), (29, 4), (30, 3), (31, 1), (32, 1), (33, 11), (34, 2), (37, 3), (38, 1), (39, 4), (40, 12), (41, 5), (42, 1), (44, 3), (45, 2), (46, 7), (47, 2), (48, 8), (49, 16), (50, 51), (51, 1), (52, 8), (54, 6), (56, 2), (57, 1), (58, 1), (60, 1), (61, 1), (62, 2), (63, 3), (64, 3), (65, 5), (66, 69), (67, 1), (68, 1), (69, 7), (70, 38), (71, 2), (72, 2), (73, 1), (74, 1), (75, 1), (76, 1), (77, 1), (78, 4), (79, 3), (81, 1), (82, 2), (83, 1), (84, 2), (85, 3), (86, 9), (87, 5), (88, 15), (89, 2), (90, 30), (91, 8), (92, 9), (93, 15), (94, 14), (95, 26), (96, 11), (97, 51), (98, 30), (99, 102), (100, 2063)]\n"
     ]
    }
   ],
   "source": [
    "prsp.blnsc(datadirpath + \"scaffolds_mm10_chr6_4000kbp_boundary/\", 'protospacers.stranded', \n",
    "           datadirpath + \"blastdb_mm10/\", 'mm10', chunksize=1000, max_hsps=500,\n",
    "           reref_substrate_id='chr6', low=10, high=90, load_genome=True, howmany=24)"
   ]
  },
  {
   "cell_type": "code",
   "execution_count": 12,
   "metadata": {
    "collapsed": false
   },
   "outputs": [
    {
     "name": "stdout",
     "output_type": "stream",
     "text": [
      "blasting chunk  protospacers.stranded1x1000 done\n",
      "blasting chunk  protospacers.stranded2x1000 done\n",
      "blasting chunk  protospacers.stranded3x1000 done\n",
      "blasting chunk  protospacers.stranded4x1000 done\n",
      "blasting chunk  protospacers.stranded5x1000 done\n",
      "blasting chunk  protospacers.stranded6x1000 *failed*\n",
      "Bio:Application:ApplicationError:  Non-zero return code 134 from 'blastn -out /home/user/r/crispreating/data/scaffolds_hg38chr21_1000kbp/protospacers.stranded6x1000.blast -outfmt 5 -query /home/user/r/crispreating/data/scaffolds_hg38chr21_1000kbp/protospacers.stranded6x1000.fasta -db /home/user/r/crispreating/data/blastdb_hg38/hg38 -evalue 10 -max_target_seqs 25 -max_hsps 100 -num_threads 6 -task blastn-short -dust no', message 'Aborted (core dumped)'\n",
      "blasting chunk  protospacers.stranded7x1000 done\n",
      "blasting chunk  protospacers.stranded8x1000 *failed*\n",
      "Bio:Application:ApplicationError:  Non-zero return code 134 from 'blastn -out /home/user/r/crispreating/data/scaffolds_hg38chr21_1000kbp/protospacers.stranded8x1000.blast -outfmt 5 -query /home/user/r/crispreating/data/scaffolds_hg38chr21_1000kbp/protospacers.stranded8x1000.fasta -db /home/user/r/crispreating/data/blastdb_hg38/hg38 -evalue 10 -max_target_seqs 25 -max_hsps 100 -num_threads 6 -task blastn-short -dust no', message 'Aborted (core dumped)'\n",
      "blasting chunk  protospacers.stranded9x1000 done\n",
      "blasting chunk  protospacers.stranded10x1000 *failed*\n",
      "Bio:Application:ApplicationError:  Non-zero return code 139 from 'blastn -out /home/user/r/crispreating/data/scaffolds_hg38chr21_1000kbp/protospacers.stranded10x1000.blast -outfmt 5 -query /home/user/r/crispreating/data/scaffolds_hg38chr21_1000kbp/protospacers.stranded10x1000.fasta -db /home/user/r/crispreating/data/blastdb_hg38/hg38 -evalue 10 -max_target_seqs 25 -max_hsps 100 -num_threads 6 -task blastn-short -dust no', message 'Segmentation fault (core dumped)'\n",
      "blasting chunk  protospacers.stranded11x1000 done\n",
      "blasting chunk  protospacers.stranded12x1000 done\n",
      "blasting chunk  protospacers.stranded13x1000 *failed*\n",
      "Bio:Application:ApplicationError:  Non-zero return code 134 from 'blastn -out /home/user/r/crispreating/data/scaffolds_hg38chr21_1000kbp/protospacers.stranded13x1000.blast -outfmt 5 -query /home/user/r/crispreating/data/scaffolds_hg38chr21_1000kbp/protospacers.stranded13x1000.fasta -db /home/user/r/crispreating/data/blastdb_hg38/hg38 -evalue 10 -max_target_seqs 25 -max_hsps 100 -num_threads 6 -task blastn-short -dust no', message 'Aborted (core dumped)'\n",
      "blasting chunk  protospacers.stranded14x1000 *failed*\n",
      "Bio:Application:ApplicationError:  Non-zero return code 134 from 'blastn -out /home/user/r/crispreating/data/scaffolds_hg38chr21_1000kbp/protospacers.stranded14x1000.blast -outfmt 5 -query /home/user/r/crispreating/data/scaffolds_hg38chr21_1000kbp/protospacers.stranded14x1000.fasta -db /home/user/r/crispreating/data/blastdb_hg38/hg38 -evalue 10 -max_target_seqs 25 -max_hsps 100 -num_threads 6 -task blastn-short -dust no', message 'Aborted (core dumped)'\n",
      "blasting chunk  protospacers.stranded15x1000 *failed*\n",
      "Bio:Application:ApplicationError:  Non-zero return code 134 from 'blastn -out /home/user/r/crispreating/data/scaffolds_hg38chr21_1000kbp/protospacers.stranded15x1000.blast -outfmt 5 -query /home/user/r/crispreating/data/scaffolds_hg38chr21_1000kbp/protospacers.stranded15x1000.fasta -db /home/user/r/crispreating/data/blastdb_hg38/hg38 -evalue 10 -max_target_seqs 25 -max_hsps 100 -num_threads 6 -task blastn-short -dust no', message 'Aborted (core dumped)'\n",
      "blasting chunk  protospacers.stranded16x1000 done\n",
      "blasting chunk  protospacers.stranded17x1000 *failed*\n",
      "Bio:Application:ApplicationError:  Non-zero return code 134 from 'blastn -out /home/user/r/crispreating/data/scaffolds_hg38chr21_1000kbp/protospacers.stranded17x1000.blast -outfmt 5 -query /home/user/r/crispreating/data/scaffolds_hg38chr21_1000kbp/protospacers.stranded17x1000.fasta -db /home/user/r/crispreating/data/blastdb_hg38/hg38 -evalue 10 -max_target_seqs 25 -max_hsps 100 -num_threads 6 -task blastn-short -dust no', message 'Aborted (core dumped)'\n",
      "blasting chunk  protospacers.stranded18x1000 done\n",
      "blasting chunk  protospacers.stranded19x1000 done\n",
      "all done with 19 chunks\n",
      "reading genome done\n",
      "parsing /home/user/r/crispreating/data/scaffolds_hg38chr21_1000kbp/protospacers.stranded1x1000.blast\n",
      " done\n",
      "parsing /home/user/r/crispreating/data/scaffolds_hg38chr21_1000kbp/protospacers.stranded2x1000.blast\n",
      " done\n",
      "parsing /home/user/r/crispreating/data/scaffolds_hg38chr21_1000kbp/protospacers.stranded3x1000.blast\n",
      " done\n",
      "parsing /home/user/r/crispreating/data/scaffolds_hg38chr21_1000kbp/protospacers.stranded4x1000.blast\n",
      " done\n",
      "parsing /home/user/r/crispreating/data/scaffolds_hg38chr21_1000kbp/protospacers.stranded5x1000.blast\n",
      " done\n",
      "skipping  /home/user/r/crispreating/data/scaffolds_hg38chr21_1000kbp/protospacers.stranded6x1000.blast\n",
      " parsing /home/user/r/crispreating/data/scaffolds_hg38chr21_1000kbp/protospacers.stranded7x1000.blast\n",
      " done\n",
      "parsing /home/user/r/crispreating/data/scaffolds_hg38chr21_1000kbp/protospacers.stranded8x1000.blast\n"
     ]
    },
    {
     "ename": "ExpatError",
     "evalue": "no element found: line 536742, column 0",
     "output_type": "error",
     "traceback": [
      "\u001b[1;31m---------------------------------------------------------------------------\u001b[0m",
      "\u001b[1;31mExpatError\u001b[0m                                Traceback (most recent call last)",
      "\u001b[1;32m<ipython-input-12-1f85faa627a2>\u001b[0m in \u001b[0;36m<module>\u001b[1;34m()\u001b[0m\n\u001b[0;32m      1\u001b[0m prsp.blnsc(datadirpath + \"scaffolds_hg38chr21_1000kbp/\", 'protospacers.stranded', \n\u001b[0;32m      2\u001b[0m            \u001b[0mdatadirpath\u001b[0m \u001b[1;33m+\u001b[0m \u001b[1;34m\"blastdb_hg38/\"\u001b[0m\u001b[1;33m,\u001b[0m \u001b[1;34m'hg38'\u001b[0m\u001b[1;33m,\u001b[0m \u001b[0mchunksize\u001b[0m\u001b[1;33m=\u001b[0m\u001b[1;36m1000\u001b[0m\u001b[1;33m,\u001b[0m \u001b[0mmax_hsps\u001b[0m\u001b[1;33m=\u001b[0m\u001b[1;36m500\u001b[0m\u001b[1;33m,\u001b[0m\u001b[1;33m\u001b[0m\u001b[0m\n\u001b[1;32m----> 3\u001b[1;33m            reref_substrate_id='chr21', low=10, high=100, load_genome=True, howmany=60)\n\u001b[0m",
      "\u001b[1;32m/media/user/5T/ros/crispreating/buffet/protospacers.py\u001b[0m in \u001b[0;36mblnsc\u001b[1;34m(dir, fn_noext, blastdb_directory, blastdb_db, chunksize, max_hsps, reref_substrate_id, low, high, load_genome, howmany)\u001b[0m\n\u001b[0;32m    172\u001b[0m              \u001b[0mfn_noext\u001b[0m\u001b[1;33m,\u001b[0m \u001b[0mblastdb_directory\u001b[0m\u001b[1;33m,\u001b[0m \u001b[0mblastdb_db\u001b[0m\u001b[1;33m,\u001b[0m \u001b[0mchunksize\u001b[0m\u001b[1;33m=\u001b[0m\u001b[1;36m1000\u001b[0m\u001b[1;33m,\u001b[0m\u001b[1;33m\u001b[0m\u001b[0m\n\u001b[0;32m    173\u001b[0m              \u001b[0mmax_hsps\u001b[0m\u001b[1;33m=\u001b[0m\u001b[1;36m100\u001b[0m\u001b[1;33m,\u001b[0m\u001b[1;33m\u001b[0m\u001b[0m\n\u001b[1;32m--> 174\u001b[1;33m              reref_substrate_id=None, low=50, high=90, load_genome=False, howmany=24):\n\u001b[0m\u001b[0;32m    175\u001b[0m \u001b[1;33m\u001b[0m\u001b[0m\n\u001b[0;32m    176\u001b[0m     \u001b[0mprotospacers_bedfile_and_fastafile_from_directory\u001b[0m\u001b[1;33m(\u001b[0m\u001b[0mdir\u001b[0m\u001b[1;33m,\u001b[0m \u001b[0mfileformat\u001b[0m\u001b[1;33m)\u001b[0m\u001b[1;33m\u001b[0m\u001b[0m\n",
      "\u001b[1;32m/media/user/5T/ros/crispreating/buffet/protospacers.py\u001b[0m in \u001b[0;36mscore\u001b[1;34m(dir, fn_noext, blastdb_directory, blastdb_db, chunksize, nbrofchunks, reref_substrate_id, low, high, load_genome, howmany)\u001b[0m\n\u001b[0;32m    279\u001b[0m \u001b[1;33m\u001b[0m\u001b[0m\n\u001b[0;32m    280\u001b[0m def score(dir, fn_noext, blastdb_directory, blastdb_db,\n\u001b[1;32m--> 281\u001b[1;33m           \u001b[0mchunksize\u001b[0m\u001b[1;33m,\u001b[0m \u001b[0mnbrofchunks\u001b[0m\u001b[1;33m,\u001b[0m \u001b[0mreref_substrate_id\u001b[0m\u001b[1;33m=\u001b[0m\u001b[0mNone\u001b[0m\u001b[1;33m,\u001b[0m \u001b[0mlow\u001b[0m\u001b[1;33m=\u001b[0m\u001b[1;36m50\u001b[0m\u001b[1;33m,\u001b[0m \u001b[0mhigh\u001b[0m\u001b[1;33m=\u001b[0m\u001b[1;36m90\u001b[0m\u001b[1;33m,\u001b[0m\u001b[1;33m\u001b[0m\u001b[0m\n\u001b[0m\u001b[0;32m    282\u001b[0m           load_genome=False, howmany=24):\n\u001b[0;32m    283\u001b[0m \u001b[1;33m\u001b[0m\u001b[0m\n",
      "\u001b[1;32m/home/user/anaconda3/envs/crispreating/lib/python2.7/site-packages/Bio/Blast/NCBIXML.pyc\u001b[0m in \u001b[0;36mparse\u001b[1;34m(handle, debug)\u001b[0m\n\u001b[0;32m    601\u001b[0m             \u001b[1;32mif\u001b[0m \u001b[1;32mnot\u001b[0m \u001b[0mtext\u001b[0m\u001b[1;33m:\u001b[0m\u001b[1;33m\u001b[0m\u001b[0m\n\u001b[0;32m    602\u001b[0m                 \u001b[1;31m# End of the file!\u001b[0m\u001b[1;33m\u001b[0m\u001b[1;33m\u001b[0m\u001b[0m\n\u001b[1;32m--> 603\u001b[1;33m                 \u001b[0mexpat_parser\u001b[0m\u001b[1;33m.\u001b[0m\u001b[0mParse\u001b[0m\u001b[1;33m(\u001b[0m\u001b[1;34m\"\"\u001b[0m\u001b[1;33m,\u001b[0m \u001b[0mTrue\u001b[0m\u001b[1;33m)\u001b[0m  \u001b[1;31m# End of XML record\u001b[0m\u001b[1;33m\u001b[0m\u001b[0m\n\u001b[0m\u001b[0;32m    604\u001b[0m                 \u001b[1;32mbreak\u001b[0m\u001b[1;33m\u001b[0m\u001b[0m\n\u001b[0;32m    605\u001b[0m \u001b[1;33m\u001b[0m\u001b[0m\n",
      "\u001b[1;31mExpatError\u001b[0m: no element found: line 536742, column 0"
     ]
    }
   ],
   "source": [
    "prsp.blnsc(datadirpath + \"scaffolds_hg38chr21_1000kbp/\", 'protospacers.stranded', \n",
    "           datadirpath + \"blastdb_hg38/\", 'hg38', chunksize=1000, max_hsps=500,\n",
    "           reref_substrate_id='chr21', low=10, high=100, load_genome=True, howmany=60)"
   ]
  },
  {
   "cell_type": "markdown",
   "metadata": {},
   "source": [
    "# prsp.blast"
   ]
  },
  {
   "cell_type": "code",
   "execution_count": null,
   "metadata": {
    "collapsed": false
   },
   "outputs": [],
   "source": [
    "import protospacers as prsp\n",
    "reload(prsp)\n",
    "datadirpath = \"/home/user/r/crispreating/data/\""
   ]
  },
  {
   "cell_type": "code",
   "execution_count": null,
   "metadata": {
    "collapsed": false
   },
   "outputs": [],
   "source": [
    "prsp.blast(datadirpath + \"scaffolds_mm10_chr6_1kbp_boundary/\", 'protospacers.stranded', \n",
    "                 datadirpath + \"blastdb_mm10/\", 'mm10', 10, max_hsps=500)"
   ]
  },
  {
   "cell_type": "code",
   "execution_count": null,
   "metadata": {
    "collapsed": false
   },
   "outputs": [],
   "source": [
    "prsp.blast(datadirpath + \"scaffolds_mm10_chr6_40kbp_boundary/\", 'protospacers.stranded', \n",
    "                 datadirpath + \"blastdb_mm10/\", 'mm10', 300, max_hsps=500)"
   ]
  },
  {
   "cell_type": "code",
   "execution_count": null,
   "metadata": {
    "collapsed": false
   },
   "outputs": [],
   "source": [
    "prsp.blast(datadirpath + \"scaffolds_mm10_chr6_400kbp_boundary/\", 'protospacers.stranded', \n",
    "                 datadirpath + \"blastdb_mm10/\", 'mm10', 1000)"
   ]
  },
  {
   "cell_type": "code",
   "execution_count": null,
   "metadata": {
    "collapsed": false
   },
   "outputs": [],
   "source": [
    "prsp.blast(datadirpath + \"scaffolds_mm10_chr6_4000kbp_boundary/\", 'protospacers.stranded', \n",
    "                 datadirpath + \"blastdb_mm10/\", 'mm10', 1000)"
   ]
  },
  {
   "cell_type": "code",
   "execution_count": null,
   "metadata": {
    "collapsed": false
   },
   "outputs": [],
   "source": [
    "prsp.blast(datadirpath + \"scaffolds_hg18chr21_AP001625_130kbp/\", 'protospacers.stranded', \n",
    "                 datadirpath + \"blastdb_hg18/\", 'hg18', 500)"
   ]
  },
  {
   "cell_type": "code",
   "execution_count": null,
   "metadata": {
    "collapsed": true
   },
   "outputs": [],
   "source": []
  },
  {
   "cell_type": "code",
   "execution_count": null,
   "metadata": {
    "collapsed": false
   },
   "outputs": [],
   "source": [
    "prsp.blast(datadirpath + \"scaffolds_hg38chr21_1000kbp/\", 'protospacers.stranded', \n",
    "                 datadirpath + \"blastdb_hg38/\", 'hg38', 500, max_hsps=200)"
   ]
  },
  {
   "cell_type": "code",
   "execution_count": null,
   "metadata": {
    "collapsed": false
   },
   "outputs": [],
   "source": [
    "prsp.blast(datadirpath + \"scaffolds_xenopuslaevis_Scaffold102974/\", 'protospacers.stranded',\n",
    "                 datadirpath + \"blastdb_xenopuslaevis/\", 'xenopuslaevis', 1000)"
   ]
  },
  {
   "cell_type": "markdown",
   "metadata": {
    "collapsed": true
   },
   "source": [
    "---"
   ]
  },
  {
   "cell_type": "code",
   "execution_count": null,
   "metadata": {
    "collapsed": false
   },
   "outputs": [],
   "source": [
    "prsp.blast1(datadirpath + \"scaffolds_ecoliK12DH10B/\", 'protospacers.stranded', \n",
    "           datadirpath + \"blastdb_ecoli/\", 'ecoli', 1000)"
   ]
  },
  {
   "cell_type": "code",
   "execution_count": null,
   "metadata": {
    "collapsed": true
   },
   "outputs": [],
   "source": [
    "prsp.blast1(datadirpath + \"scaffolds_ecoli2/\", 'protospacers.stranded', \n",
    "           datadirpath + \"blastdb_ecoli2/\", 'ecoli2')"
   ]
  },
  {
   "cell_type": "code",
   "execution_count": null,
   "metadata": {
    "collapsed": true
   },
   "outputs": [],
   "source": [
    "prsp.blast1(datadirpath + \"scaffolds_yeast/\", 'protospacers.stranded', \n",
    "           datadirpath + \"blastdb_yeast/\", 'yeast')"
   ]
  },
  {
   "cell_type": "code",
   "execution_count": null,
   "metadata": {
    "collapsed": true
   },
   "outputs": [],
   "source": [
    "prsp.blast1(datadirpath + \"scaffolds_ce10/\", 'protospacers.stranded', \n",
    "           datadirpath + \"blastdb_ce10/\", 'ce10')"
   ]
  },
  {
   "cell_type": "code",
   "execution_count": null,
   "metadata": {
    "collapsed": false
   },
   "outputs": [],
   "source": [
    "prsp.blast1(datadirpath + \"scaffolds_mm10_chr6_1kbp_boundary/\", 'protospacers.stranded', \n",
    "           datadirpath + \"blastdb_mm10/\", 'mm10')"
   ]
  },
  {
   "cell_type": "code",
   "execution_count": null,
   "metadata": {
    "collapsed": false
   },
   "outputs": [],
   "source": [
    "prsp.blast1(datadirpath + \"scaffolds_mm10_chr6_40kbp_boundary/\", 'protospacers.stranded', \n",
    "           datadirpath + \"blastdb_mm10/\", 'mm10')"
   ]
  },
  {
   "cell_type": "code",
   "execution_count": null,
   "metadata": {
    "collapsed": false
   },
   "outputs": [],
   "source": [
    "prsp.blast1(datadirpath + \"scaffolds_mm10_chr6_400kbp_boundary/\", 'protospacers.stranded', \n",
    "           datadirpath + \"blastdb_mm10/\", 'mm10')"
   ]
  },
  {
   "cell_type": "code",
   "execution_count": null,
   "metadata": {
    "collapsed": false
   },
   "outputs": [],
   "source": [
    "prsp.blast1(datadirpath + \"scaffolds_mm10_chr6_4000kbp_boundary/\", 'protospaccers.stranded.0', \n",
    "           datadirpath + \"blastdb_mm10/\", 'mm10')"
   ]
  },
  {
   "cell_type": "code",
   "execution_count": null,
   "metadata": {
    "collapsed": false
   },
   "outputs": [],
   "source": [
    "prsp.blast1(datadirpath + \"scaffolds_mm10_chr6_400kbp_boundary/\", 'protospaccers.stranded.1', \n",
    "           datadirpath + \"blastdb_mm10/\", 'mm10')"
   ]
  },
  {
   "cell_type": "code",
   "execution_count": null,
   "metadata": {
    "collapsed": false
   },
   "outputs": [],
   "source": [
    "prsp.blast1(datadirpath + \"scaffolds_mm10_chr6_400kbp_boundary/\", 'protospaccers.stranded.2', \n",
    "           datadirpath + \"blastdb_mm10/\", 'mm10')"
   ]
  },
  {
   "cell_type": "code",
   "execution_count": null,
   "metadata": {
    "collapsed": true
   },
   "outputs": [],
   "source": [
    "prsp.blast1(datadirpath + \"scaffolds_xenopuslaevis_Scaffold102974/\", 'protospacers.stranded', \n",
    "           datadirpath + \"blastdb_xenopuslaevis/\", 'xenopuslaevis')"
   ]
  },
  {
   "cell_type": "code",
   "execution_count": null,
   "metadata": {
    "collapsed": true
   },
   "outputs": [],
   "source": [
    "prsp.blast1(datadirpath + \"scaffolds_hg18chr21_AP001625/\", 'protospacers.stranded', \n",
    "           datadirpath + \"blastdb_hg18/\", 'hg18')"
   ]
  },
  {
   "cell_type": "code",
   "execution_count": null,
   "metadata": {
    "collapsed": true
   },
   "outputs": [],
   "source": [
    "# prsp.blast1(datadirpath + \"scaffolds_mm9_whole/\", 'protospacers.stranded', \n",
    "#             datadirpath + \"blastdb_hg18/\", 'hg18')"
   ]
  },
  {
   "cell_type": "markdown",
   "metadata": {},
   "source": [
    "# prsp.score"
   ]
  },
  {
   "cell_type": "code",
   "execution_count": null,
   "metadata": {
    "collapsed": false
   },
   "outputs": [],
   "source": [
    "import protospacers as prsp\n",
    "reload(prsp)\n",
    "datadirpath = \"/home/user/r/crispreating/data/\""
   ]
  },
  {
   "cell_type": "code",
   "execution_count": null,
   "metadata": {
    "collapsed": false
   },
   "outputs": [],
   "source": [
    "guides1k, ampls1k = prsp.score(datadirpath + \"scaffolds_mm10_chr6_1kbp_boundary/\", 'protospacers.stranded', \n",
    "                      datadirpath + \"blastdb_mm10/\", 'mm10',\n",
    "                      10, 3, 'chr6', low=30, high=65, load_genome=True, howmany=15)"
   ]
  },
  {
   "cell_type": "code",
   "execution_count": null,
   "metadata": {
    "collapsed": false
   },
   "outputs": [],
   "source": [
    "guides40k, ampls40k = prsp.score(datadirpath + \"scaffolds_mm10_chr6_40kbp_boundary/\", 'protospacers.stranded', \n",
    "                       datadirpath + \"blastdb_mm10/\", 'mm10',\n",
    "                       300, 3, 'chr6', low=10, high=66, load_genome=True, howmany=18)"
   ]
  },
  {
   "cell_type": "code",
   "execution_count": null,
   "metadata": {
    "collapsed": true
   },
   "outputs": [],
   "source": [
    "guides400k, ampls400k = prsp.score(datadirpath + \"scaffolds_mm10_chr6_400kbp_boundary/\", 'protospacers.stranded', \n",
    "                        datadirpath + \"blastdb_mm10/\", 'mm10',\n",
    "                        1000, 3, 'chr6', low=10, high=90, load_genome=True, howmany=24)"
   ]
  },
  {
   "cell_type": "code",
   "execution_count": null,
   "metadata": {
    "collapsed": true
   },
   "outputs": [],
   "source": [
    "guides4000k, ampls4000k = prsp.score(datadirpath + \"scaffolds_mm10_chr6_4000kbp_boundary/\", 'protospacers.stranded', \n",
    "                        datadirpath + \"blastdb_mm10/\", 'mm10',\n",
    "                        1000, 2, 'chr6', low=10, high=90, load_genome=True, howmany=24)"
   ]
  },
  {
   "cell_type": "code",
   "execution_count": 14,
   "metadata": {
    "collapsed": false
   },
   "outputs": [
    {
     "name": "stdout",
     "output_type": "stream",
     "text": [
      " reading genome done\n",
      "parsing /home/user/r/crispreating/data/scaffolds_hg38chr21_1000kbp/protospacers.stranded1x1000.blast\n",
      " done\n",
      "parsing /home/user/r/crispreating/data/scaffolds_hg38chr21_1000kbp/protospacers.stranded2x1000.blast\n",
      " done\n",
      "parsing /home/user/r/crispreating/data/scaffolds_hg38chr21_1000kbp/protospacers.stranded3x1000.blast\n",
      " done\n",
      "parsing /home/user/r/crispreating/data/scaffolds_hg38chr21_1000kbp/protospacers.stranded4x1000.blast\n",
      " done\n",
      "parsing /home/user/r/crispreating/data/scaffolds_hg38chr21_1000kbp/protospacers.stranded5x1000.blast\n",
      " done\n",
      "skipping  /home/user/r/crispreating/data/scaffolds_hg38chr21_1000kbp/protospacers.stranded6x1000.blast\n",
      " parsing /home/user/r/crispreating/data/scaffolds_hg38chr21_1000kbp/protospacers.stranded7x1000.blast\n",
      " done\n",
      "skipping  /home/user/r/crispreating/data/scaffolds_hg38chr21_1000kbp/protospacers.stranded8x1000.blast\n",
      " parsing /home/user/r/crispreating/data/scaffolds_hg38chr21_1000kbp/protospacers.stranded9x1000.blast\n",
      " done\n",
      "skipping  /home/user/r/crispreating/data/scaffolds_hg38chr21_1000kbp/protospacers.stranded10x1000.blast\n",
      " parsing /home/user/r/crispreating/data/scaffolds_hg38chr21_1000kbp/protospacers.stranded11x1000.blast\n",
      " done\n",
      "parsing /home/user/r/crispreating/data/scaffolds_hg38chr21_1000kbp/protospacers.stranded12x1000.blast\n",
      " done\n",
      "skipping  /home/user/r/crispreating/data/scaffolds_hg38chr21_1000kbp/protospacers.stranded13x1000.blast\n",
      " skipping  /home/user/r/crispreating/data/scaffolds_hg38chr21_1000kbp/protospacers.stranded14x1000.blast\n",
      " skipping  /home/user/r/crispreating/data/scaffolds_hg38chr21_1000kbp/protospacers.stranded15x1000.blast\n",
      " parsing /home/user/r/crispreating/data/scaffolds_hg38chr21_1000kbp/protospacers.stranded16x1000.blast\n",
      " done\n",
      "skipping  /home/user/r/crispreating/data/scaffolds_hg38chr21_1000kbp/protospacers.stranded17x1000.blast\n",
      " parsing /home/user/r/crispreating/data/scaffolds_hg38chr21_1000kbp/protospacers.stranded18x1000.blast\n",
      " done\n",
      "parsing /home/user/r/crispreating/data/scaffolds_hg38chr21_1000kbp/protospacers.stranded19x1000.blast\n",
      " done\n",
      "\n",
      "2229 amplicons totaling 304379 bps yielding a total of 5839 guides\n",
      "with average amplicon of 136.0 bps yielding 2.0 guides\n",
      "\n",
      "top 60 amplicons totaling 82176 bps yielding a total of 1722 guides\n",
      "with average amplicon of 1369.0 bps yielding 28.0 guides\n",
      "\n",
      "253291 - 256854 (3563 bps) yields 75 guides (21 guides per 1000bps )\n",
      "243888 - 246161 (2273 bps) yields 71 guides (31 guides per 1000bps )\n",
      "27909 - 32146 (4237 bps) yields 70 guides (16 guides per 1000bps )\n",
      "247976 - 250449 (2473 bps) yields 68 guides (27 guides per 1000bps )\n",
      "135823 - 138911 (3088 bps) yields 56 guides (18 guides per 1000bps )\n",
      "198982 - 203789 (4807 bps) yields 55 guides (11 guides per 1000bps )\n",
      "39695 - 41371 (1676 bps) yields 50 guides (29 guides per 1000bps )\n",
      "261942 - 263436 (1494 bps) yields 49 guides (32 guides per 1000bps )\n",
      "125777 - 127531 (1754 bps) yields 47 guides (26 guides per 1000bps )\n",
      "41373 - 42319 (946 bps) yields 46 guides (48 guides per 1000bps )\n",
      "250457 - 251525 (1068 bps) yields 45 guides (42 guides per 1000bps )\n",
      "62151 - 64087 (1936 bps) yields 44 guides (22 guides per 1000bps )\n",
      "32444 - 35933 (3489 bps) yields 42 guides (12 guides per 1000bps )\n",
      "194091 - 197121 (3030 bps) yields 40 guides (13 guides per 1000bps )\n",
      "262 - 3329 (3067 bps) yields 34 guides (11 guides per 1000bps )\n",
      "118817 - 120669 (1852 bps) yields 34 guides (18 guides per 1000bps )\n",
      "152110 - 152671 (561 bps) yields 34 guides (60 guides per 1000bps )\n",
      "6058 - 8056 (1998 bps) yields 32 guides (16 guides per 1000bps )\n",
      "25175 - 26541 (1366 bps) yields 32 guides (23 guides per 1000bps )\n",
      "198084 - 198988 (904 bps) yields 32 guides (35 guides per 1000bps )\n",
      "185504 - 186719 (1215 bps) yields 29 guides (23 guides per 1000bps )\n",
      "3370 - 4459 (1089 bps) yields 28 guides (25 guides per 1000bps )\n",
      "157442 - 158711 (1269 bps) yields 28 guides (22 guides per 1000bps )\n",
      "148134 - 149530 (1396 bps) yields 27 guides (19 guides per 1000bps )\n",
      "128498 - 129532 (1034 bps) yields 26 guides (25 guides per 1000bps )\n",
      "187553 - 189348 (1795 bps) yields 26 guides (14 guides per 1000bps )\n",
      "204132 - 205153 (1021 bps) yields 26 guides (25 guides per 1000bps )\n",
      "256875 - 258636 (1761 bps) yields 26 guides (14 guides per 1000bps )\n",
      "99899 - 101721 (1822 bps) yields 25 guides (13 guides per 1000bps )\n",
      "258637 - 259338 (701 bps) yields 25 guides (35 guides per 1000bps )\n",
      "43027 - 43269 (242 bps) yields 24 guides (99 guides per 1000bps )\n",
      "47038 - 48095 (1057 bps) yields 24 guides (22 guides per 1000bps )\n",
      "115119 - 116964 (1845 bps) yields 22 guides (11 guides per 1000bps )\n",
      "164203 - 165559 (1356 bps) yields 22 guides (16 guides per 1000bps )\n",
      "124023 - 124834 (811 bps) yields 21 guides (25 guides per 1000bps )\n",
      "191881 - 192630 (749 bps) yields 21 guides (28 guides per 1000bps )\n",
      "251777 - 252404 (627 bps) yields 21 guides (33 guides per 1000bps )\n",
      "8103 - 9288 (1185 bps) yields 20 guides (16 guides per 1000bps )\n",
      "144480 - 145160 (680 bps) yields 20 guides (29 guides per 1000bps )\n",
      "117356 - 118755 (1399 bps) yields 19 guides (13 guides per 1000bps )\n",
      "37328 - 37923 (595 bps) yields 18 guides (30 guides per 1000bps )\n",
      "45124 - 46511 (1387 bps) yields 18 guides (12 guides per 1000bps )\n",
      "113060 - 113663 (603 bps) yields 18 guides (29 guides per 1000bps )\n",
      "102292 - 103096 (804 bps) yields 16 guides (19 guides per 1000bps )\n",
      "108448 - 109011 (563 bps) yields 16 guides (28 guides per 1000bps )\n",
      "145440 - 145847 (407 bps) yields 16 guides (39 guides per 1000bps )\n",
      "205408 - 206230 (822 bps) yields 16 guides (19 guides per 1000bps )\n",
      "54062 - 55161 (1099 bps) yields 14 guides (12 guides per 1000bps )\n",
      "55163 - 56750 (1587 bps) yields 14 guides (8 guides per 1000bps )\n",
      "191260 - 191713 (453 bps) yields 14 guides (30 guides per 1000bps )\n",
      "288481 - 288859 (378 bps) yields 14 guides (37 guides per 1000bps )\n",
      "295076 - 295886 (810 bps) yields 14 guides (17 guides per 1000bps )\n",
      "189707 - 189938 (231 bps) yields 13 guides (56 guides per 1000bps )\n",
      "246142 - 246540 (398 bps) yields 13 guides (32 guides per 1000bps )\n",
      "300808 - 301187 (379 bps) yields 13 guides (34 guides per 1000bps )\n",
      "11510 - 11848 (338 bps) yields 12 guides (35 guides per 1000bps )\n",
      "11971 - 12795 (824 bps) yields 12 guides (14 guides per 1000bps )\n",
      "261044 - 261610 (566 bps) yields 12 guides (21 guides per 1000bps )\n",
      "542555 - 543361 (806 bps) yields 12 guides (14 guides per 1000bps )\n",
      "38691 - 39181 (490 bps) yields 11 guides (22 guides per 1000bps )\n",
      "\n",
      "57132 - 58100 (968 bps) yields 11 guides (11 guides per 1000bps )\n",
      "64607 - 65045 (438 bps) yields 11 guides (25 guides per 1000bps )\n",
      "240110 - 240488 (378 bps) yields 11 guides (29 guides per 1000bps )\n",
      "259340 - 259844 (504 bps) yields 11 guides (21 guides per 1000bps )\n",
      "299134 - 299554 (420 bps) yields 11 guides (26 guides per 1000bps )\n",
      "303949 - 304211 (262 bps) yields 11 guides (41 guides per 1000bps )\n",
      "308603 - 309478 (875 bps) yields 11 guides (12 guides per 1000bps )\n",
      "13452 - 14398 (946 bps) yields 10 guides (10 guides per 1000bps )\n",
      "15599 - 16177 (578 bps) yields 10 guides (17 guides per 1000bps )\n",
      "68286 - 69240 (954 bps) yields 10 guides (10 guides per 1000bps )\n",
      "122584 - 123551 (967 bps) yields 10 guides (10 guides per 1000bps )\n",
      "160335 - 160828 (493 bps) yields 10 guides (20 guides per 1000bps )\n",
      "240497 - 240878 (381 bps) yields 10 guides (26 guides per 1000bps )\n",
      "304345 - 304725 (380 bps) yields 10 guides (26 guides per 1000bps )\n",
      "304984 - 305339 (355 bps) yields 10 guides (28 guides per 1000bps )\n",
      "310678 - 310966 (288 bps) yields 10 guides (34 guides per 1000bps )\n",
      "436916 - 437927 (1011 bps) yields 10 guides (9 guides per 1000bps )\n",
      "578560 - 578762 (202 bps) yields 10 guides (49 guides per 1000bps )\n",
      "673105 - 673314 (209 bps) yields 10 guides (47 guides per 1000bps )\n",
      "9817 - 10129 (312 bps) yields 9 guides (28 guides per 1000bps )\n",
      "42932 - 43026 (94 bps) yields 9 guides (95 guides per 1000bps )\n",
      "61894 - 62068 (174 bps) yields 9 guides (51 guides per 1000bps )\n",
      "66924 - 67401 (477 bps) yields 9 guides (18 guides per 1000bps )\n",
      "87928 - 88861 (933 bps) yields 9 guides (9 guides per 1000bps )\n",
      "99077 - 99622 (545 bps) yields 9 guides (16 guides per 1000bps )\n",
      "114064 - 114785 (721 bps) yields 9 guides (12 guides per 1000bps )\n",
      "125151 - 125411 (260 bps) yields 9 guides (34 guides per 1000bps )\n",
      "239746 - 240093 (347 bps) yields 9 guides (25 guides per 1000bps )\n",
      "312730 - 313045 (315 bps) yields 9 guides (28 guides per 1000bps )\n",
      "313535 - 313846 (311 bps) yields 9 guides (28 guides per 1000bps )\n",
      "552691 - 552914 (223 bps) yields 9 guides (40 guides per 1000bps )\n",
      "10857 - 11484 (627 bps) yields 8 guides (12 guides per 1000bps )\n",
      "20936 - 21180 (244 bps) yields 8 guides (32 guides per 1000bps )\n",
      "43264 - 44409 (1145 bps) yields 8 guides (6 guides per 1000bps )\n",
      "46541 - 47040 (499 bps) yields 8 guides (16 guides per 1000bps )\n",
      "61102 - 61527 (425 bps) yields 8 guides (18 guides per 1000bps )\n",
      "161139 - 161322 (183 bps) yields 8 guides (43 guides per 1000bps )\n",
      "246791 - 247343 (552 bps) yields 8 guides (14 guides per 1000bps )\n",
      "306345 - 307326 (981 bps) yields 8 guides (8 guides per 1000bps )\n",
      "309817 - 310043 (226 bps) yields 8 guides (35 guides per 1000bps )\n",
      "310137 - 310491 (354 bps) yields 8 guides (22 guides per 1000bps )\n",
      "493000 - 493633 (633 bps) yields 8 guides (12 guides per 1000bps )\n",
      "528505 - 528942 (437 bps) yields 8 guides (18 guides per 1000bps )\n",
      "717190 - 717979 (789 bps) yields 8 guides (10 guides per 1000bps )\n",
      "5025 - 5089 (64 bps) yields 7 guides (109 guides per 1000bps )\n",
      "9540 - 9739 (199 bps) yields 7 guides (35 guides per 1000bps )\n",
      "82306 - 83035 (729 bps) yields 7 guides (9 guides per 1000bps )\n",
      "88863 - 89374 (511 bps) yields 7 guides (13 guides per 1000bps )\n",
      "111107 - 111384 (277 bps) yields 7 guides (25 guides per 1000bps )\n",
      "120875 - 121148 (273 bps) yields 7 guides (25 guides per 1000bps )\n",
      "141692 - 142165 (473 bps) yields 7 guides (14 guides per 1000bps )\n",
      "149649 - 149786 (137 bps) yields 7 guides (51 guides per 1000bps )\n",
      "152658 - 152726 (68 bps) yields 7 guides (102 guides per 1000bps )\n",
      "162789 - 163128 (339 bps) yields 7 guides (20 guides per 1000bps )\n",
      "172358 - 172563 (205 bps) yields 7 guides (34 guides per 1000bps )\n",
      "193205 - 193331 (126 bps) yields 7 guides (55 guides per 1000bps )\n",
      "241332 - 241491 (159 bps) yields 7 guides (44 guides per 1000bps )\n",
      "278281 - 278939 (658 bps) yields 7 guides (10 guides per 1000bps )\n",
      "305568 - 306051 (483 bps) yields 7 guides (14 guides per 1000bps )\n",
      "312408 - 312728 (320 bps) yields 7 guides (21 guides per 1000bps )\n",
      "\n",
      "\n",
      "distribution of scores among all 18112 guides (score, nb of guides with that score)\n",
      "[(0, 7268), (1, 275), (2, 160), (3, 124), (4, 93), (5, 57), (6, 39), (7, 43), (8, 32), (9, 22), (10, 21), (11, 22), (12, 19), (13, 21), (14, 21), (15, 25), (16, 22), (17, 17), (18, 25), (19, 13), (20, 11), (21, 9), (22, 13), (23, 18), (24, 19), (25, 17), (26, 7), (27, 8), (28, 25), (29, 12), (30, 13), (31, 13), (32, 23), (33, 34), (34, 14), (35, 16), (36, 17), (37, 16), (38, 19), (39, 31), (40, 63), (41, 22), (42, 13), (43, 12), (44, 16), (45, 28), (46, 36), (47, 59), (48, 93), (49, 135), (50, 306), (51, 16), (52, 25), (53, 8), (54, 12), (55, 6), (56, 17), (57, 6), (58, 11), (59, 26), (60, 23), (61, 25), (62, 62), (63, 72), (64, 150), (65, 208), (66, 1964), (67, 7), (68, 2), (69, 2), (70, 5), (71, 1), (72, 4), (74, 1), (75, 4), (78, 4), (79, 1), (80, 1), (81, 4), (82, 1), (83, 3), (84, 3), (85, 3), (86, 3), (87, 4), (88, 6), (89, 3), (90, 2), (91, 3), (92, 3), (93, 10), (94, 6), (95, 17), (96, 16), (97, 21), (98, 27), (99, 38), (100, 5839)]\n"
     ]
    },
    {
     "data": {
      "image/png": "[encoded data removed]",
      "text/plain": [
       "<matplotlib.figure.Figure at 0x7f2ee1a6cb50>"
      ]
     },
     "metadata": {},
     "output_type": "display_data"
    }
   ],
   "source": [
    "guides_hg38chr21_1000kbp, ampls_hg38chr21_1000kbp = prsp.score(datadirpath + \"scaffolds_hg38chr21_1000kbp/\", 'protospacers.stranded', \n",
    "                                      datadirpath + \"blastdb_hg38/\", 'hg38',\n",
    "                                      1000, 19 ,'chr21', low=10, high=100, load_genome=True, howmany=60)"
   ]
  },
  {
   "cell_type": "code",
   "execution_count": null,
   "metadata": {
    "collapsed": false
   },
   "outputs": [],
   "source": [
    "guides_xl, scores_xl = prsp.score(datadirpath + \"scaffolds_xenopuslaevis_Scaffold102974/\", 'protospacers.stranded', \n",
    "                                  datadirpath + \"blastdb_xenopuslaevis/\", 'xenopuslaevis',\n",
    "                                  1000, 19 ,'Scaffold102974', low=10, high=98, load_genome=True)"
   ]
  },
  {
   "cell_type": "markdown",
   "metadata": {},
   "source": [
    "---"
   ]
  },
  {
   "cell_type": "code",
   "execution_count": null,
   "metadata": {
    "collapsed": true
   },
   "outputs": [],
   "source": [
    "for guide in guides1k:\n",
    "    print guide.seq, guide.annotations, guide.name"
   ]
  },
  {
   "cell_type": "code",
   "execution_count": null,
   "metadata": {
    "collapsed": false
   },
   "outputs": [],
   "source": [
    "ampl40k = amplicons(pos_score(guides40k),67)\n",
    "ampl40k"
   ]
  },
  {
   "cell_type": "code",
   "execution_count": null,
   "metadata": {
    "collapsed": true
   },
   "outputs": [],
   "source": []
  }
 ],
 "metadata": {
  "kernelspec": {
   "display_name": "Python 2",
   "language": "python",
   "name": "python2"
  },
  "language_info": {
   "codemirror_mode": {
    "name": "ipython",
    "version": 2
   },
   "file_extension": ".py",
   "mimetype": "text/x-python",
   "name": "python",
   "nbconvert_exporter": "python",
   "pygments_lexer": "ipython2",
   "version": "2.7.11"
  }
 },
 "nbformat": 4,
 "nbformat_minor": 0
}
